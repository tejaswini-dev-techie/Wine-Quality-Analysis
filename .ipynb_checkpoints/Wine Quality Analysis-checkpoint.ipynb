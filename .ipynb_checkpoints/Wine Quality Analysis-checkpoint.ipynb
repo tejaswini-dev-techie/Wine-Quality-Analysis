{
 "cells": [
  {
   "cell_type": "markdown",
   "id": "b43c6a66",
   "metadata": {},
   "source": [
    "# Wine Quality Prediction"
   ]
  },
  {
   "cell_type": "markdown",
   "id": "1f667311",
   "metadata": {},
   "source": [
    "- Predicting wine quality using ML models brings objectivity to subjective evaluations. \n",
    "- By analyzing historical data and identifying patterns, these models provide accurate quality assessments, \n",
    "aiding in production, pricing, and selection decisions. \n",
    "- Revolutionize the wine industry with data-driven precision and unlock the full potential of your products."
   ]
  },
  {
   "cell_type": "markdown",
   "id": "508c691d",
   "metadata": {},
   "source": [
    "### Importing libraries"
   ]
  },
  {
   "cell_type": "code",
   "execution_count": 1,
   "id": "6bedf19f",
   "metadata": {},
   "outputs": [],
   "source": [
    "import pandas as pd\n",
    "import numpy as np\n",
    "\n",
    "import matplotlib.pyplot as plt\n",
    "from matplotlib import rcParams\n",
    "import seaborn as sns\n",
    "\n",
    "%matplotlib inline\n",
    "\n",
    "from sklearn.model_selection import train_test_split, GridSearchCV\n",
    "from sklearn.preprocessing import RobustScaler\n",
    "from sklearn.neighbors import KNeighborsClassifier\n",
    "from sklearn.metrics import classification_report,confusion_matrix\n",
    "from sklearn.model_selection import cross_val_score\n",
    "from sklearn.metrics import roc_auc_score\n",
    "\n",
    "from statsmodels.stats.outliers_influence import variance_inflation_factor\n",
    "from sklearn.linear_model import LinearRegression\n",
    "from sklearn.metrics import r2_score, mean_absolute_error, mean_squared_error\n",
    "\n",
    "from sklearn.ensemble import RandomForestClassifier\n",
    "from sklearn.metrics import roc_curve, auc, plot_confusion_matrix, classification_report , accuracy_score\n",
    "from sklearn.preprocessing import label_binarize\n",
    "\n",
    "from sklearn.svm import SVC    \n",
    "from sklearn import metrics \n",
    "\n",
    "\n",
    "import warnings\n",
    "warnings.filterwarnings(\"ignore\")"
   ]
  },
  {
   "cell_type": "markdown",
   "id": "1ad5466f",
   "metadata": {},
   "source": [
    "### Loading Dataset"
   ]
  },
  {
   "cell_type": "code",
   "execution_count": 2,
   "id": "e9eb2b3f",
   "metadata": {},
   "outputs": [
    {
     "name": "stdout",
     "output_type": "stream",
     "text": [
      "(1599, 12)\n"
     ]
    }
   ],
   "source": [
    "# Returns dimensionality of dataset to understand the total number of Rows and Colums\n",
    "df = pd.read_csv(r\"/home/tejaswinidev/Downloads/ds_pract/statistics_ml/machinelearning/ML Pract/QualityPrediction.csv\",)\n",
    "print(df.shape) "
   ]
  },
  {
   "cell_type": "markdown",
   "id": "2fbfce07",
   "metadata": {},
   "source": [
    "- There are 1599 rows and 12 columns\n",
    "- 11 Predictor Variables and 1 Target Variable"
   ]
  },
  {
   "cell_type": "markdown",
   "id": "27bdb472",
   "metadata": {},
   "source": [
    "### Data Insights"
   ]
  },
  {
   "cell_type": "code",
   "execution_count": 3,
   "id": "7c1ee952",
   "metadata": {},
   "outputs": [
    {
     "data": {
      "text/html": [
       "<div>\n",
       "<style scoped>\n",
       "    .dataframe tbody tr th:only-of-type {\n",
       "        vertical-align: middle;\n",
       "    }\n",
       "\n",
       "    .dataframe tbody tr th {\n",
       "        vertical-align: top;\n",
       "    }\n",
       "\n",
       "    .dataframe thead th {\n",
       "        text-align: right;\n",
       "    }\n",
       "</style>\n",
       "<table border=\"1\" class=\"dataframe\">\n",
       "  <thead>\n",
       "    <tr style=\"text-align: right;\">\n",
       "      <th></th>\n",
       "      <th>fixed acidity</th>\n",
       "      <th>volatile acidity</th>\n",
       "      <th>citric acid</th>\n",
       "      <th>residual sugar</th>\n",
       "      <th>chlorides</th>\n",
       "      <th>free sulfur dioxide</th>\n",
       "      <th>total sulfur dioxide</th>\n",
       "      <th>density</th>\n",
       "      <th>pH</th>\n",
       "      <th>sulphates</th>\n",
       "      <th>alcohol</th>\n",
       "      <th>quality</th>\n",
       "    </tr>\n",
       "  </thead>\n",
       "  <tbody>\n",
       "    <tr>\n",
       "      <th>0</th>\n",
       "      <td>7.4</td>\n",
       "      <td>0.70</td>\n",
       "      <td>0.00</td>\n",
       "      <td>1.9</td>\n",
       "      <td>0.076</td>\n",
       "      <td>11.0</td>\n",
       "      <td>34.0</td>\n",
       "      <td>0.9978</td>\n",
       "      <td>3.51</td>\n",
       "      <td>0.56</td>\n",
       "      <td>9.4</td>\n",
       "      <td>5</td>\n",
       "    </tr>\n",
       "    <tr>\n",
       "      <th>1</th>\n",
       "      <td>7.8</td>\n",
       "      <td>0.88</td>\n",
       "      <td>0.00</td>\n",
       "      <td>2.6</td>\n",
       "      <td>0.098</td>\n",
       "      <td>25.0</td>\n",
       "      <td>67.0</td>\n",
       "      <td>0.9968</td>\n",
       "      <td>3.20</td>\n",
       "      <td>0.68</td>\n",
       "      <td>9.8</td>\n",
       "      <td>5</td>\n",
       "    </tr>\n",
       "    <tr>\n",
       "      <th>2</th>\n",
       "      <td>7.8</td>\n",
       "      <td>0.76</td>\n",
       "      <td>0.04</td>\n",
       "      <td>2.3</td>\n",
       "      <td>0.092</td>\n",
       "      <td>15.0</td>\n",
       "      <td>54.0</td>\n",
       "      <td>0.9970</td>\n",
       "      <td>3.26</td>\n",
       "      <td>0.65</td>\n",
       "      <td>9.8</td>\n",
       "      <td>5</td>\n",
       "    </tr>\n",
       "    <tr>\n",
       "      <th>3</th>\n",
       "      <td>11.2</td>\n",
       "      <td>0.28</td>\n",
       "      <td>0.56</td>\n",
       "      <td>1.9</td>\n",
       "      <td>0.075</td>\n",
       "      <td>17.0</td>\n",
       "      <td>60.0</td>\n",
       "      <td>0.9980</td>\n",
       "      <td>3.16</td>\n",
       "      <td>0.58</td>\n",
       "      <td>9.8</td>\n",
       "      <td>6</td>\n",
       "    </tr>\n",
       "    <tr>\n",
       "      <th>4</th>\n",
       "      <td>7.4</td>\n",
       "      <td>0.70</td>\n",
       "      <td>0.00</td>\n",
       "      <td>1.9</td>\n",
       "      <td>0.076</td>\n",
       "      <td>11.0</td>\n",
       "      <td>34.0</td>\n",
       "      <td>0.9978</td>\n",
       "      <td>3.51</td>\n",
       "      <td>0.56</td>\n",
       "      <td>9.4</td>\n",
       "      <td>5</td>\n",
       "    </tr>\n",
       "  </tbody>\n",
       "</table>\n",
       "</div>"
      ],
      "text/plain": [
       "   fixed acidity  volatile acidity  citric acid  residual sugar  chlorides  \\\n",
       "0            7.4              0.70         0.00             1.9      0.076   \n",
       "1            7.8              0.88         0.00             2.6      0.098   \n",
       "2            7.8              0.76         0.04             2.3      0.092   \n",
       "3           11.2              0.28         0.56             1.9      0.075   \n",
       "4            7.4              0.70         0.00             1.9      0.076   \n",
       "\n",
       "   free sulfur dioxide  total sulfur dioxide  density    pH  sulphates  \\\n",
       "0                 11.0                  34.0   0.9978  3.51       0.56   \n",
       "1                 25.0                  67.0   0.9968  3.20       0.68   \n",
       "2                 15.0                  54.0   0.9970  3.26       0.65   \n",
       "3                 17.0                  60.0   0.9980  3.16       0.58   \n",
       "4                 11.0                  34.0   0.9978  3.51       0.56   \n",
       "\n",
       "   alcohol  quality  \n",
       "0      9.4        5  \n",
       "1      9.8        5  \n",
       "2      9.8        5  \n",
       "3      9.8        6  \n",
       "4      9.4        5  "
      ]
     },
     "execution_count": 3,
     "metadata": {},
     "output_type": "execute_result"
    }
   ],
   "source": [
    "df.head()"
   ]
  },
  {
   "cell_type": "markdown",
   "id": "442ae7aa",
   "metadata": {},
   "source": [
    "#### Descriptive information of the dataset\n",
    "- This information includes statistics that summarize the central tendency of the variable, their dispersion, the \n",
    "presence of empty values and their shape. "
   ]
  },
  {
   "cell_type": "code",
   "execution_count": 4,
   "id": "a238241c",
   "metadata": {},
   "outputs": [
    {
     "data": {
      "text/html": [
       "<div>\n",
       "<style scoped>\n",
       "    .dataframe tbody tr th:only-of-type {\n",
       "        vertical-align: middle;\n",
       "    }\n",
       "\n",
       "    .dataframe tbody tr th {\n",
       "        vertical-align: top;\n",
       "    }\n",
       "\n",
       "    .dataframe thead th {\n",
       "        text-align: right;\n",
       "    }\n",
       "</style>\n",
       "<table border=\"1\" class=\"dataframe\">\n",
       "  <thead>\n",
       "    <tr style=\"text-align: right;\">\n",
       "      <th></th>\n",
       "      <th>fixed acidity</th>\n",
       "      <th>volatile acidity</th>\n",
       "      <th>citric acid</th>\n",
       "      <th>residual sugar</th>\n",
       "      <th>chlorides</th>\n",
       "      <th>free sulfur dioxide</th>\n",
       "      <th>total sulfur dioxide</th>\n",
       "      <th>density</th>\n",
       "      <th>pH</th>\n",
       "      <th>sulphates</th>\n",
       "      <th>alcohol</th>\n",
       "      <th>quality</th>\n",
       "    </tr>\n",
       "  </thead>\n",
       "  <tbody>\n",
       "    <tr>\n",
       "      <th>count</th>\n",
       "      <td>1599.000000</td>\n",
       "      <td>1599.000000</td>\n",
       "      <td>1599.000000</td>\n",
       "      <td>1599.000000</td>\n",
       "      <td>1599.000000</td>\n",
       "      <td>1599.000000</td>\n",
       "      <td>1599.000000</td>\n",
       "      <td>1599.000000</td>\n",
       "      <td>1599.000000</td>\n",
       "      <td>1599.000000</td>\n",
       "      <td>1599.000000</td>\n",
       "      <td>1599.000000</td>\n",
       "    </tr>\n",
       "    <tr>\n",
       "      <th>mean</th>\n",
       "      <td>8.319637</td>\n",
       "      <td>0.527821</td>\n",
       "      <td>0.270976</td>\n",
       "      <td>2.538806</td>\n",
       "      <td>0.087467</td>\n",
       "      <td>15.874922</td>\n",
       "      <td>46.467792</td>\n",
       "      <td>0.996747</td>\n",
       "      <td>3.311113</td>\n",
       "      <td>0.658149</td>\n",
       "      <td>10.422983</td>\n",
       "      <td>5.636023</td>\n",
       "    </tr>\n",
       "    <tr>\n",
       "      <th>std</th>\n",
       "      <td>1.741096</td>\n",
       "      <td>0.179060</td>\n",
       "      <td>0.194801</td>\n",
       "      <td>1.409928</td>\n",
       "      <td>0.047065</td>\n",
       "      <td>10.460157</td>\n",
       "      <td>32.895324</td>\n",
       "      <td>0.001887</td>\n",
       "      <td>0.154386</td>\n",
       "      <td>0.169507</td>\n",
       "      <td>1.065668</td>\n",
       "      <td>0.807569</td>\n",
       "    </tr>\n",
       "    <tr>\n",
       "      <th>min</th>\n",
       "      <td>4.600000</td>\n",
       "      <td>0.120000</td>\n",
       "      <td>0.000000</td>\n",
       "      <td>0.900000</td>\n",
       "      <td>0.012000</td>\n",
       "      <td>1.000000</td>\n",
       "      <td>6.000000</td>\n",
       "      <td>0.990070</td>\n",
       "      <td>2.740000</td>\n",
       "      <td>0.330000</td>\n",
       "      <td>8.400000</td>\n",
       "      <td>3.000000</td>\n",
       "    </tr>\n",
       "    <tr>\n",
       "      <th>25%</th>\n",
       "      <td>7.100000</td>\n",
       "      <td>0.390000</td>\n",
       "      <td>0.090000</td>\n",
       "      <td>1.900000</td>\n",
       "      <td>0.070000</td>\n",
       "      <td>7.000000</td>\n",
       "      <td>22.000000</td>\n",
       "      <td>0.995600</td>\n",
       "      <td>3.210000</td>\n",
       "      <td>0.550000</td>\n",
       "      <td>9.500000</td>\n",
       "      <td>5.000000</td>\n",
       "    </tr>\n",
       "    <tr>\n",
       "      <th>50%</th>\n",
       "      <td>7.900000</td>\n",
       "      <td>0.520000</td>\n",
       "      <td>0.260000</td>\n",
       "      <td>2.200000</td>\n",
       "      <td>0.079000</td>\n",
       "      <td>14.000000</td>\n",
       "      <td>38.000000</td>\n",
       "      <td>0.996750</td>\n",
       "      <td>3.310000</td>\n",
       "      <td>0.620000</td>\n",
       "      <td>10.200000</td>\n",
       "      <td>6.000000</td>\n",
       "    </tr>\n",
       "    <tr>\n",
       "      <th>75%</th>\n",
       "      <td>9.200000</td>\n",
       "      <td>0.640000</td>\n",
       "      <td>0.420000</td>\n",
       "      <td>2.600000</td>\n",
       "      <td>0.090000</td>\n",
       "      <td>21.000000</td>\n",
       "      <td>62.000000</td>\n",
       "      <td>0.997835</td>\n",
       "      <td>3.400000</td>\n",
       "      <td>0.730000</td>\n",
       "      <td>11.100000</td>\n",
       "      <td>6.000000</td>\n",
       "    </tr>\n",
       "    <tr>\n",
       "      <th>max</th>\n",
       "      <td>15.900000</td>\n",
       "      <td>1.580000</td>\n",
       "      <td>1.000000</td>\n",
       "      <td>15.500000</td>\n",
       "      <td>0.611000</td>\n",
       "      <td>72.000000</td>\n",
       "      <td>289.000000</td>\n",
       "      <td>1.003690</td>\n",
       "      <td>4.010000</td>\n",
       "      <td>2.000000</td>\n",
       "      <td>14.900000</td>\n",
       "      <td>8.000000</td>\n",
       "    </tr>\n",
       "  </tbody>\n",
       "</table>\n",
       "</div>"
      ],
      "text/plain": [
       "       fixed acidity  volatile acidity  citric acid  residual sugar  \\\n",
       "count    1599.000000       1599.000000  1599.000000     1599.000000   \n",
       "mean        8.319637          0.527821     0.270976        2.538806   \n",
       "std         1.741096          0.179060     0.194801        1.409928   \n",
       "min         4.600000          0.120000     0.000000        0.900000   \n",
       "25%         7.100000          0.390000     0.090000        1.900000   \n",
       "50%         7.900000          0.520000     0.260000        2.200000   \n",
       "75%         9.200000          0.640000     0.420000        2.600000   \n",
       "max        15.900000          1.580000     1.000000       15.500000   \n",
       "\n",
       "         chlorides  free sulfur dioxide  total sulfur dioxide      density  \\\n",
       "count  1599.000000          1599.000000           1599.000000  1599.000000   \n",
       "mean      0.087467            15.874922             46.467792     0.996747   \n",
       "std       0.047065            10.460157             32.895324     0.001887   \n",
       "min       0.012000             1.000000              6.000000     0.990070   \n",
       "25%       0.070000             7.000000             22.000000     0.995600   \n",
       "50%       0.079000            14.000000             38.000000     0.996750   \n",
       "75%       0.090000            21.000000             62.000000     0.997835   \n",
       "max       0.611000            72.000000            289.000000     1.003690   \n",
       "\n",
       "                pH    sulphates      alcohol      quality  \n",
       "count  1599.000000  1599.000000  1599.000000  1599.000000  \n",
       "mean      3.311113     0.658149    10.422983     5.636023  \n",
       "std       0.154386     0.169507     1.065668     0.807569  \n",
       "min       2.740000     0.330000     8.400000     3.000000  \n",
       "25%       3.210000     0.550000     9.500000     5.000000  \n",
       "50%       3.310000     0.620000    10.200000     6.000000  \n",
       "75%       3.400000     0.730000    11.100000     6.000000  \n",
       "max       4.010000     2.000000    14.900000     8.000000  "
      ]
     },
     "execution_count": 4,
     "metadata": {},
     "output_type": "execute_result"
    }
   ],
   "source": [
    "df.describe()"
   ]
  },
  {
   "cell_type": "markdown",
   "id": "5b3ea871",
   "metadata": {},
   "source": [
    "- There is notably a large difference between 75% and max values of predictors “residual sugar”,\n",
    " ”free sulfur dioxide”,”total sulfur dioxide”.\n",
    "- Thus observations suggests that there are extreme values-Outliers in our data set."
   ]
  },
  {
   "cell_type": "code",
   "execution_count": 5,
   "id": "8b210839",
   "metadata": {},
   "outputs": [
    {
     "name": "stdout",
     "output_type": "stream",
     "text": [
      "<class 'pandas.core.frame.DataFrame'>\n",
      "RangeIndex: 1599 entries, 0 to 1598\n",
      "Data columns (total 12 columns):\n",
      " #   Column                Non-Null Count  Dtype  \n",
      "---  ------                --------------  -----  \n",
      " 0   fixed acidity         1599 non-null   float64\n",
      " 1   volatile acidity      1599 non-null   float64\n",
      " 2   citric acid           1599 non-null   float64\n",
      " 3   residual sugar        1599 non-null   float64\n",
      " 4   chlorides             1599 non-null   float64\n",
      " 5   free sulfur dioxide   1599 non-null   float64\n",
      " 6   total sulfur dioxide  1599 non-null   float64\n",
      " 7   density               1599 non-null   float64\n",
      " 8   pH                    1599 non-null   float64\n",
      " 9   sulphates             1599 non-null   float64\n",
      " 10  alcohol               1599 non-null   float64\n",
      " 11  quality               1599 non-null   int64  \n",
      "dtypes: float64(11), int64(1)\n",
      "memory usage: 150.0 KB\n"
     ]
    }
   ],
   "source": [
    "# Returns information about the data type, non-null values and memory usage.\n",
    "df.info()"
   ]
  },
  {
   "cell_type": "markdown",
   "id": "899571b5",
   "metadata": {},
   "source": [
    "- All predictor variables is of float data type\n",
    "- Target variable is of int data type and it is **Categorical and Ordinal**"
   ]
  },
  {
   "cell_type": "markdown",
   "id": "683de112",
   "metadata": {},
   "source": [
    "#### Get list of Columns"
   ]
  },
  {
   "cell_type": "code",
   "execution_count": 6,
   "id": "c14c4870",
   "metadata": {},
   "outputs": [
    {
     "data": {
      "text/plain": [
       "Index(['fixed acidity', 'volatile acidity', 'citric acid', 'residual sugar',\n",
       "       'chlorides', 'free sulfur dioxide', 'total sulfur dioxide', 'density',\n",
       "       'pH', 'sulphates', 'alcohol', 'quality'],\n",
       "      dtype='object')"
      ]
     },
     "execution_count": 6,
     "metadata": {},
     "output_type": "execute_result"
    }
   ],
   "source": [
    "df.columns"
   ]
  },
  {
   "cell_type": "markdown",
   "id": "e62cc849",
   "metadata": {},
   "source": [
    "#### Understanding different features of Wine:\n",
    "\n",
    "1. Fixed acidity: Higher levels of fixed acidity can contribute to a more sour or tart taste in the wine.\n",
    "\n",
    "2. Volatile acidity: Higher levels of volatile acidity can result in a more vinegary or unpleasant aroma and taste.\n",
    "\n",
    "3. Citric acid: Citric acid can contribute to a fresher and more vibrant taste in the wine.\n",
    "\n",
    "4. Residual sugar: Increased residual sugar can add sweetness and body to the wine.\n",
    "\n",
    "5. Chlorides: Higher chloride levels can contribute to a salty or briny taste in the wine.\n",
    "\n",
    "6. Free sulfur dioxide: Sulfur dioxide is often added to wines as a preservative. \n",
    "    Higher levels can help prevent spoilage and oxidation.\n",
    "\n",
    "7. Total sulfur dioxide: Similar to free sulfur dioxide, total sulfur dioxide plays a \n",
    "    role in wine preservation and can affect the wine's aroma and taste.\n",
    "\n",
    "8. Density: Density is a measure of the wine's mass relative to its volume and can provide \n",
    "    information about its body or richness.\n",
    "\n",
    "9. pH: pH levels can influence the wine's overall balance and perceived acidity.\n",
    "\n",
    "10. Sulphates: Sulphates, often added as a preservative, can affect the wine's aroma and taste.\n",
    "\n",
    "11. Alcohol: Alcohol content contributes to the wine's body, mouthfeel, and overall flavor."
   ]
  },
  {
   "cell_type": "markdown",
   "id": "446c9c91",
   "metadata": {},
   "source": [
    "### Data Cleaning"
   ]
  },
  {
   "cell_type": "markdown",
   "id": "83fa253e",
   "metadata": {},
   "source": [
    "### Find duplicates"
   ]
  },
  {
   "cell_type": "code",
   "execution_count": 7,
   "id": "2b8f371c",
   "metadata": {},
   "outputs": [
    {
     "data": {
      "text/plain": [
       "240"
      ]
     },
     "execution_count": 7,
     "metadata": {},
     "output_type": "execute_result"
    }
   ],
   "source": [
    "df.duplicated().sum()"
   ]
  },
  {
   "cell_type": "markdown",
   "id": "d589a2de",
   "metadata": {},
   "source": [
    "- There are 240 duplicate rows/data found in the dataset"
   ]
  },
  {
   "cell_type": "code",
   "execution_count": 8,
   "id": "c742c244",
   "metadata": {},
   "outputs": [
    {
     "data": {
      "text/html": [
       "<div>\n",
       "<style scoped>\n",
       "    .dataframe tbody tr th:only-of-type {\n",
       "        vertical-align: middle;\n",
       "    }\n",
       "\n",
       "    .dataframe tbody tr th {\n",
       "        vertical-align: top;\n",
       "    }\n",
       "\n",
       "    .dataframe thead th {\n",
       "        text-align: right;\n",
       "    }\n",
       "</style>\n",
       "<table border=\"1\" class=\"dataframe\">\n",
       "  <thead>\n",
       "    <tr style=\"text-align: right;\">\n",
       "      <th></th>\n",
       "      <th>fixed acidity</th>\n",
       "      <th>volatile acidity</th>\n",
       "      <th>citric acid</th>\n",
       "      <th>residual sugar</th>\n",
       "      <th>chlorides</th>\n",
       "      <th>free sulfur dioxide</th>\n",
       "      <th>total sulfur dioxide</th>\n",
       "      <th>density</th>\n",
       "      <th>pH</th>\n",
       "      <th>sulphates</th>\n",
       "      <th>alcohol</th>\n",
       "      <th>quality</th>\n",
       "    </tr>\n",
       "  </thead>\n",
       "  <tbody>\n",
       "    <tr>\n",
       "      <th>4</th>\n",
       "      <td>7.4</td>\n",
       "      <td>0.700</td>\n",
       "      <td>0.00</td>\n",
       "      <td>1.90</td>\n",
       "      <td>0.076</td>\n",
       "      <td>11.0</td>\n",
       "      <td>34.0</td>\n",
       "      <td>0.99780</td>\n",
       "      <td>3.51</td>\n",
       "      <td>0.56</td>\n",
       "      <td>9.4</td>\n",
       "      <td>5</td>\n",
       "    </tr>\n",
       "    <tr>\n",
       "      <th>11</th>\n",
       "      <td>7.5</td>\n",
       "      <td>0.500</td>\n",
       "      <td>0.36</td>\n",
       "      <td>6.10</td>\n",
       "      <td>0.071</td>\n",
       "      <td>17.0</td>\n",
       "      <td>102.0</td>\n",
       "      <td>0.99780</td>\n",
       "      <td>3.35</td>\n",
       "      <td>0.80</td>\n",
       "      <td>10.5</td>\n",
       "      <td>5</td>\n",
       "    </tr>\n",
       "    <tr>\n",
       "      <th>27</th>\n",
       "      <td>7.9</td>\n",
       "      <td>0.430</td>\n",
       "      <td>0.21</td>\n",
       "      <td>1.60</td>\n",
       "      <td>0.106</td>\n",
       "      <td>10.0</td>\n",
       "      <td>37.0</td>\n",
       "      <td>0.99660</td>\n",
       "      <td>3.17</td>\n",
       "      <td>0.91</td>\n",
       "      <td>9.5</td>\n",
       "      <td>5</td>\n",
       "    </tr>\n",
       "    <tr>\n",
       "      <th>40</th>\n",
       "      <td>7.3</td>\n",
       "      <td>0.450</td>\n",
       "      <td>0.36</td>\n",
       "      <td>5.90</td>\n",
       "      <td>0.074</td>\n",
       "      <td>12.0</td>\n",
       "      <td>87.0</td>\n",
       "      <td>0.99780</td>\n",
       "      <td>3.33</td>\n",
       "      <td>0.83</td>\n",
       "      <td>10.5</td>\n",
       "      <td>5</td>\n",
       "    </tr>\n",
       "    <tr>\n",
       "      <th>65</th>\n",
       "      <td>7.2</td>\n",
       "      <td>0.725</td>\n",
       "      <td>0.05</td>\n",
       "      <td>4.65</td>\n",
       "      <td>0.086</td>\n",
       "      <td>4.0</td>\n",
       "      <td>11.0</td>\n",
       "      <td>0.99620</td>\n",
       "      <td>3.41</td>\n",
       "      <td>0.39</td>\n",
       "      <td>10.9</td>\n",
       "      <td>5</td>\n",
       "    </tr>\n",
       "    <tr>\n",
       "      <th>...</th>\n",
       "      <td>...</td>\n",
       "      <td>...</td>\n",
       "      <td>...</td>\n",
       "      <td>...</td>\n",
       "      <td>...</td>\n",
       "      <td>...</td>\n",
       "      <td>...</td>\n",
       "      <td>...</td>\n",
       "      <td>...</td>\n",
       "      <td>...</td>\n",
       "      <td>...</td>\n",
       "      <td>...</td>\n",
       "    </tr>\n",
       "    <tr>\n",
       "      <th>1563</th>\n",
       "      <td>7.2</td>\n",
       "      <td>0.695</td>\n",
       "      <td>0.13</td>\n",
       "      <td>2.00</td>\n",
       "      <td>0.076</td>\n",
       "      <td>12.0</td>\n",
       "      <td>20.0</td>\n",
       "      <td>0.99546</td>\n",
       "      <td>3.29</td>\n",
       "      <td>0.54</td>\n",
       "      <td>10.1</td>\n",
       "      <td>5</td>\n",
       "    </tr>\n",
       "    <tr>\n",
       "      <th>1564</th>\n",
       "      <td>7.2</td>\n",
       "      <td>0.695</td>\n",
       "      <td>0.13</td>\n",
       "      <td>2.00</td>\n",
       "      <td>0.076</td>\n",
       "      <td>12.0</td>\n",
       "      <td>20.0</td>\n",
       "      <td>0.99546</td>\n",
       "      <td>3.29</td>\n",
       "      <td>0.54</td>\n",
       "      <td>10.1</td>\n",
       "      <td>5</td>\n",
       "    </tr>\n",
       "    <tr>\n",
       "      <th>1567</th>\n",
       "      <td>7.2</td>\n",
       "      <td>0.695</td>\n",
       "      <td>0.13</td>\n",
       "      <td>2.00</td>\n",
       "      <td>0.076</td>\n",
       "      <td>12.0</td>\n",
       "      <td>20.0</td>\n",
       "      <td>0.99546</td>\n",
       "      <td>3.29</td>\n",
       "      <td>0.54</td>\n",
       "      <td>10.1</td>\n",
       "      <td>5</td>\n",
       "    </tr>\n",
       "    <tr>\n",
       "      <th>1581</th>\n",
       "      <td>6.2</td>\n",
       "      <td>0.560</td>\n",
       "      <td>0.09</td>\n",
       "      <td>1.70</td>\n",
       "      <td>0.053</td>\n",
       "      <td>24.0</td>\n",
       "      <td>32.0</td>\n",
       "      <td>0.99402</td>\n",
       "      <td>3.54</td>\n",
       "      <td>0.60</td>\n",
       "      <td>11.3</td>\n",
       "      <td>5</td>\n",
       "    </tr>\n",
       "    <tr>\n",
       "      <th>1596</th>\n",
       "      <td>6.3</td>\n",
       "      <td>0.510</td>\n",
       "      <td>0.13</td>\n",
       "      <td>2.30</td>\n",
       "      <td>0.076</td>\n",
       "      <td>29.0</td>\n",
       "      <td>40.0</td>\n",
       "      <td>0.99574</td>\n",
       "      <td>3.42</td>\n",
       "      <td>0.75</td>\n",
       "      <td>11.0</td>\n",
       "      <td>6</td>\n",
       "    </tr>\n",
       "  </tbody>\n",
       "</table>\n",
       "<p>240 rows × 12 columns</p>\n",
       "</div>"
      ],
      "text/plain": [
       "      fixed acidity  volatile acidity  citric acid  residual sugar  chlorides  \\\n",
       "4               7.4             0.700         0.00            1.90      0.076   \n",
       "11              7.5             0.500         0.36            6.10      0.071   \n",
       "27              7.9             0.430         0.21            1.60      0.106   \n",
       "40              7.3             0.450         0.36            5.90      0.074   \n",
       "65              7.2             0.725         0.05            4.65      0.086   \n",
       "...             ...               ...          ...             ...        ...   \n",
       "1563            7.2             0.695         0.13            2.00      0.076   \n",
       "1564            7.2             0.695         0.13            2.00      0.076   \n",
       "1567            7.2             0.695         0.13            2.00      0.076   \n",
       "1581            6.2             0.560         0.09            1.70      0.053   \n",
       "1596            6.3             0.510         0.13            2.30      0.076   \n",
       "\n",
       "      free sulfur dioxide  total sulfur dioxide  density    pH  sulphates  \\\n",
       "4                    11.0                  34.0  0.99780  3.51       0.56   \n",
       "11                   17.0                 102.0  0.99780  3.35       0.80   \n",
       "27                   10.0                  37.0  0.99660  3.17       0.91   \n",
       "40                   12.0                  87.0  0.99780  3.33       0.83   \n",
       "65                    4.0                  11.0  0.99620  3.41       0.39   \n",
       "...                   ...                   ...      ...   ...        ...   \n",
       "1563                 12.0                  20.0  0.99546  3.29       0.54   \n",
       "1564                 12.0                  20.0  0.99546  3.29       0.54   \n",
       "1567                 12.0                  20.0  0.99546  3.29       0.54   \n",
       "1581                 24.0                  32.0  0.99402  3.54       0.60   \n",
       "1596                 29.0                  40.0  0.99574  3.42       0.75   \n",
       "\n",
       "      alcohol  quality  \n",
       "4         9.4        5  \n",
       "11       10.5        5  \n",
       "27        9.5        5  \n",
       "40       10.5        5  \n",
       "65       10.9        5  \n",
       "...       ...      ...  \n",
       "1563     10.1        5  \n",
       "1564     10.1        5  \n",
       "1567     10.1        5  \n",
       "1581     11.3        5  \n",
       "1596     11.0        6  \n",
       "\n",
       "[240 rows x 12 columns]"
      ]
     },
     "execution_count": 8,
     "metadata": {},
     "output_type": "execute_result"
    }
   ],
   "source": [
    "df[df.duplicated()]"
   ]
  },
  {
   "cell_type": "markdown",
   "id": "83d0dd70",
   "metadata": {},
   "source": [
    "### Note: \n",
    "- It is important to note that although there are a total of 240 duplicate rows, \n",
    "- We will not be removing them. This is because we are assuming that this survey was made by \n",
    "different unique wine tasters who may have given same ratings."
   ]
  },
  {
   "cell_type": "markdown",
   "id": "dd233e66",
   "metadata": {},
   "source": [
    "### Null Value Analysis"
   ]
  },
  {
   "cell_type": "code",
   "execution_count": 9,
   "id": "07294999",
   "metadata": {},
   "outputs": [
    {
     "data": {
      "text/plain": [
       "fixed acidity           0\n",
       "volatile acidity        0\n",
       "citric acid             0\n",
       "residual sugar          0\n",
       "chlorides               0\n",
       "free sulfur dioxide     0\n",
       "total sulfur dioxide    0\n",
       "density                 0\n",
       "pH                      0\n",
       "sulphates               0\n",
       "alcohol                 0\n",
       "quality                 0\n",
       "dtype: int64"
      ]
     },
     "execution_count": 9,
     "metadata": {},
     "output_type": "execute_result"
    }
   ],
   "source": [
    "df.isnull().sum()"
   ]
  },
  {
   "cell_type": "markdown",
   "id": "12dc6270",
   "metadata": {},
   "source": [
    "- Upon examination, it is evident that the dataset does not contain any null values, \n",
    "indicating that the data is complete and does not have any missing information."
   ]
  },
  {
   "cell_type": "markdown",
   "id": "973d3534",
   "metadata": {},
   "source": [
    "#### Visualize missing values"
   ]
  },
  {
   "cell_type": "code",
   "execution_count": 10,
   "id": "4f2964b8",
   "metadata": {},
   "outputs": [
    {
     "data": {
      "text/plain": [
       "<AxesSubplot:>"
      ]
     },
     "execution_count": 10,
     "metadata": {},
     "output_type": "execute_result"
    },
    {
     "data": {
      "image/png": "[encoded data removed]",
      "text/plain": [
       "<Figure size 432x288 with 1 Axes>"
      ]
     },
     "metadata": {
      "needs_background": "light"
     },
     "output_type": "display_data"
    }
   ],
   "source": [
    "sns.heatmap(df.isnull(),cbar=False,yticklabels=False,cmap = 'viridis')"
   ]
  },
  {
   "cell_type": "markdown",
   "id": "1226392b",
   "metadata": {},
   "source": [
    "- No missing values have been identified in the dataset.\n",
    "\n",
    "- If there were any missing values in the dataset, \n",
    " they would have been indicated by a distinct color shade on a purple background in the figure. \n",
    "- However, since there are no such color variations observed, \n",
    " it can be inferred that the dataset does not contain any missing values."
   ]
  },
  {
   "cell_type": "markdown",
   "id": "db63995c",
   "metadata": {},
   "source": [
    "### Understanding the Target/Dependent/Outcome Variable "
   ]
  },
  {
   "cell_type": "code",
   "execution_count": 11,
   "id": "1967fa04",
   "metadata": {},
   "outputs": [
    {
     "data": {
      "text/plain": [
       "array([5, 6, 7, 4, 8, 3])"
      ]
     },
     "execution_count": 11,
     "metadata": {},
     "output_type": "execute_result"
    }
   ],
   "source": [
    "df.quality.unique()"
   ]
  },
  {
   "cell_type": "code",
   "execution_count": 12,
   "id": "cf04b5da",
   "metadata": {},
   "outputs": [
    {
     "data": {
      "text/plain": [
       "5    681\n",
       "6    638\n",
       "7    199\n",
       "4     53\n",
       "8     18\n",
       "3     10\n",
       "Name: quality, dtype: int64"
      ]
     },
     "execution_count": 12,
     "metadata": {},
     "output_type": "execute_result"
    }
   ],
   "source": [
    "df.quality.value_counts()"
   ]
  },
  {
   "cell_type": "markdown",
   "id": "e16b38d6",
   "metadata": {},
   "source": [
    "- Target variable/Dependent variable is **Categorical & Ordinal** in nature.\n",
    "- **\"quality\"** score scale ranges from 1 to 10, where 1 being poor and 10 being the best.\n",
    "- 1, 2, 9 & 10 **\"quality\"** ratings are not given by any observation. Only scores obtained are between 3 to 8."
   ]
  },
  {
   "cell_type": "markdown",
   "id": "d2b7adf6",
   "metadata": {},
   "source": [
    "#### Data represented as a percentage to have quick understanding"
   ]
  },
  {
   "cell_type": "code",
   "execution_count": 13,
   "id": "6e9462a2",
   "metadata": {},
   "outputs": [
    {
     "data": {
      "text/plain": [
       "5    0.425891\n",
       "6    0.398999\n",
       "7    0.124453\n",
       "4    0.033146\n",
       "8    0.011257\n",
       "3    0.006254\n",
       "Name: quality, dtype: float64"
      ]
     },
     "execution_count": 13,
     "metadata": {},
     "output_type": "execute_result"
    }
   ],
   "source": [
    "df.quality.value_counts(normalize=True)"
   ]
  },
  {
   "cell_type": "markdown",
   "id": "6b5e09e5",
   "metadata": {},
   "source": [
    "#### According to the provided data, the percentage breakdown for each rating is as follows:\n",
    "\n",
    "- Rating 5: 42.59%\n",
    "- Rating 6: 39.90%\n",
    "- Rating 7: 12.45%\n",
    "- Rating 4: 3.31%\n",
    "- Rating 8: 1.13%\n",
    "- Rating 3: 0.63%"
   ]
  },
  {
   "cell_type": "markdown",
   "id": "49983cf9",
   "metadata": {},
   "source": [
    "#### Highest Rating\n",
    "- Based on the provided data, the highest rating is 5 with a percentage of 42.59%. \n",
    "- This means that rating 5 is the most prevalent among the given ratings."
   ]
  },
  {
   "cell_type": "markdown",
   "id": "204cb841",
   "metadata": {},
   "source": [
    "#### Lowest Rating\n",
    "- On the other hand, the lowest rating is 3 with a percentage of 0.63%. \n",
    "- This indicates that rating 3 is the least frequent among the given ratings."
   ]
  },
  {
   "cell_type": "markdown",
   "id": "504d1976",
   "metadata": {},
   "source": [
    "#### Graphical Overview of the \"quality\" (Target Variable)"
   ]
  },
  {
   "cell_type": "code",
   "execution_count": 14,
   "id": "60c7f325",
   "metadata": {},
   "outputs": [
    {
     "data": {
      "image/png": "[encoded data removed]",
      "text/plain": [
       "<Figure size 432x288 with 1 Axes>"
      ]
     },
     "metadata": {
      "needs_background": "light"
     },
     "output_type": "display_data"
    }
   ],
   "source": [
    "df.quality.value_counts().plot(kind=\"bar\",color = \"blue\")\n",
    "plt.title(\"Value counts of the target variable\")\n",
    "plt.xlabel(\"Quality of Wine\")\n",
    "plt.xticks(rotation=0)\n",
    "plt.ylabel(\"Count\")\n",
    "plt.show()"
   ]
  },
  {
   "cell_type": "code",
   "execution_count": 15,
   "id": "3c589079",
   "metadata": {},
   "outputs": [],
   "source": [
    "l = df.columns.values\n",
    "number_of_columns=12\n",
    "number_of_rows = len(l)-1/number_of_columns\n",
    "rows = int(number_of_rows)"
   ]
  },
  {
   "cell_type": "code",
   "execution_count": 16,
   "id": "087fe45c",
   "metadata": {},
   "outputs": [
    {
     "data": {
      "image/png": "[encoded data removed]",
      "text/plain": [
       "<Figure size 1728x3960 with 12 Axes>"
      ]
     },
     "metadata": {
      "needs_background": "light"
     },
     "output_type": "display_data"
    }
   ],
   "source": [
    "plt.figure(figsize=(2*12,5*int(number_of_rows)))\n",
    "for i in range(0,len(l)):\n",
    "    plt.subplot(int(number_of_rows) + 1,number_of_columns,i+1)\n",
    "    sns.distplot(df[l[i]],kde=True)"
   ]
  },
  {
   "cell_type": "markdown",
   "id": "97cd80fc",
   "metadata": {},
   "source": [
    "- Skewed distributions could reflect inherent characteristics of the data, \n",
    "such as the presence of rare and extreme values. \n",
    "- In such cases, removing the skewness might not be appropriate, as it could distort the representation \n",
    "of the data."
   ]
  },
  {
   "cell_type": "markdown",
   "id": "94f08470",
   "metadata": {},
   "source": [
    "### Observations:\n",
    "- **\"density\"** & **\"ph\"** follows normal distribution\n",
    "- Remaining all independent/predictor variables are right skewed/positively skewed."
   ]
  },
  {
   "cell_type": "markdown",
   "id": "fe6cbb06",
   "metadata": {},
   "source": [
    "### Checking Outliers"
   ]
  },
  {
   "cell_type": "code",
   "execution_count": 17,
   "id": "a1c40e46",
   "metadata": {},
   "outputs": [
    {
     "data": {
      "image/png": "[encoded data removed]",
      "text/plain": [
       "<Figure size 1440x3600 with 12 Axes>"
      ]
     },
     "metadata": {
      "needs_background": "light"
     },
     "output_type": "display_data"
    }
   ],
   "source": [
    "plt.figure(figsize = (20, 50)) # Change the plot size\n",
    "for i in range(0,len(l)):\n",
    "    plt.subplot(rows + 1,number_of_columns,i+1)\n",
    "    sns.set_style('whitegrid')\n",
    "    sns.boxplot(df[l[i]],color='orange',orient='v')\n",
    "    plt.tight_layout()"
   ]
  },
  {
   "cell_type": "markdown",
   "id": "8c2b6382",
   "metadata": {},
   "source": [
    "#### Observation: \n",
    "- Almost all the parameters except citric acid contains a lot of outliers."
   ]
  },
  {
   "cell_type": "code",
   "execution_count": 18,
   "id": "26538962",
   "metadata": {},
   "outputs": [
    {
     "name": "stdout",
     "output_type": "stream",
     "text": [
      "outlier in the dataset are: [8, 8, 8, 8, 8, 3, 8, 8, 8, 3, 8, 3, 8, 3, 3, 8, 8, 8, 8, 8, 3, 3, 8, 8, 3, 3, 3, 8]\n"
     ]
    }
   ],
   "source": [
    "## IQR method of detecting outliers\n",
    "\n",
    "def iqr_func(data):\n",
    "    Q1 = np.percentile(data, 25, interpolation = 'midpoint') \n",
    "    Q3 = np.percentile(data, 75, interpolation = 'midpoint')\n",
    "    IQR=Q3-Q1\n",
    "    lo=Q1-1.5*IQR\n",
    "    uo=Q3+1.5*IQR\n",
    "    outlier=[]\n",
    "    for x in data:\n",
    "        if ((x> uo) or (x<lo)):\n",
    "            outlier.append(x)\n",
    "            \n",
    "    print('outlier in the dataset are:', outlier)\n",
    "    \n",
    "iqr_func(df['quality'])"
   ]
  },
  {
   "cell_type": "code",
   "execution_count": 19,
   "id": "fa0054a0",
   "metadata": {},
   "outputs": [
    {
     "name": "stdout",
     "output_type": "stream",
     "text": [
      "Outlier:  [3, 3, 3, 3, 3, 3, 3, 3, 3, 3]\n"
     ]
    }
   ],
   "source": [
    "## Z score method of detecting outliers\n",
    "\n",
    "def zscore_func(data):\n",
    "    outlier=[]\n",
    "    mean=np.mean(data)\n",
    "    std=np.std(data)\n",
    "    for x in data:\n",
    "        z=(x-mean)/std\n",
    "        if z>3 or z<-3:\n",
    "            outlier.append(x)\n",
    "    \n",
    "    print('Outlier: ', outlier)\n",
    "        \n",
    "zscore_func(df['quality'])"
   ]
  },
  {
   "cell_type": "markdown",
   "id": "6c17c16f",
   "metadata": {},
   "source": [
    "### Correlation"
   ]
  },
  {
   "cell_type": "code",
   "execution_count": 20,
   "id": "5107d532",
   "metadata": {
    "scrolled": true
   },
   "outputs": [
    {
     "data": {
      "text/plain": [
       "quality                 1.000000\n",
       "alcohol                 0.476166\n",
       "sulphates               0.251397\n",
       "citric acid             0.226373\n",
       "fixed acidity           0.124052\n",
       "residual sugar          0.013732\n",
       "free sulfur dioxide    -0.050656\n",
       "pH                     -0.057731\n",
       "chlorides              -0.128907\n",
       "density                -0.174919\n",
       "total sulfur dioxide   -0.185100\n",
       "volatile acidity       -0.390558\n",
       "Name: quality, dtype: float64"
      ]
     },
     "execution_count": 20,
     "metadata": {},
     "output_type": "execute_result"
    }
   ],
   "source": [
    "df.corr()['quality'].sort_values(ascending=False)"
   ]
  },
  {
   "cell_type": "markdown",
   "id": "9dec6b20",
   "metadata": {},
   "source": [
    "### Positive correlation (0 to +1): \n",
    "    \n",
    "- \"quality\" has a moderate positive correlation (0.476166) with \"alcohol\".\n",
    "- \"quality\" has a weak positive correlation (0.251397) with \"sulphates\".\n",
    "- \"quality\" has a weak positive correlation (0.226373) with \"citric acid\".\n",
    "- \"quality\" has a very weak positive correlation (0.124052) with \"fixed acidity\".\n",
    "- \"quality\" has an almost negligible positive correlation (0.013732) with \"residual sugar\".\n",
    "\n",
    "### Negative correlation (0 to -1): \n",
    "    \n",
    "- \"quality\" has a weak negative correlation (-0.050656) with \"free sulfur dioxide\".\n",
    "- \"quality\" has a weak negative correlation (-0.057731) with \"pH\".\n",
    "- \"quality\" has a weak negative correlation (-0.128907) with \"chlorides\".\n",
    "- \"quality\" has a weak negative correlation (-0.174919) with \"density\".\n",
    "- \"quality\" has a weak negative correlation (-0.185100) with \"total sulfur dioxide\".\n",
    "- \"quality\" has a moderate negative correlation (-0.390558) with \"volatile acidity\"."
   ]
  },
  {
   "cell_type": "code",
   "execution_count": 21,
   "id": "88893c9b",
   "metadata": {},
   "outputs": [
    {
     "data": {
      "text/plain": [
       "<AxesSubplot:>"
      ]
     },
     "execution_count": 21,
     "metadata": {},
     "output_type": "execute_result"
    },
    {
     "data": {
      "image/png": "[encoded data removed]",
      "text/plain": [
       "<Figure size 504x504 with 2 Axes>"
      ]
     },
     "metadata": {},
     "output_type": "display_data"
    }
   ],
   "source": [
    "plt.figure(figsize=(7, 7))\n",
    "sns.heatmap(df.corr(),cmap='Blues',annot=False) "
   ]
  },
  {
   "cell_type": "markdown",
   "id": "cefd68d1",
   "metadata": {},
   "source": [
    "- Dark shades represents positive correlation while lighter shades represents negative correlation.\n",
    "- If you set annot=True, you'll get values by which features are correlated to each other in grid-cells"
   ]
  },
  {
   "cell_type": "code",
   "execution_count": 22,
   "id": "9aa6b80b",
   "metadata": {},
   "outputs": [
    {
     "data": {
      "text/plain": [
       "<AxesSubplot:>"
      ]
     },
     "execution_count": 22,
     "metadata": {},
     "output_type": "execute_result"
    },
    {
     "data": {
      "image/png": "[encoded data removed]",
      "text/plain": [
       "<Figure size 720x432 with 2 Axes>"
      ]
     },
     "metadata": {},
     "output_type": "display_data"
    }
   ],
   "source": [
    "# Quality correlation matrix\n",
    "k = 12 # number of variables for heatmap\n",
    "cols = df.corr().nlargest(k, 'quality')['quality'].index\n",
    "cm = df[cols].corr()\n",
    "plt.figure(figsize=(10,6))\n",
    "sns.heatmap(cm, annot=True, cmap = 'viridis')"
   ]
  },
  {
   "cell_type": "markdown",
   "id": "005e8149",
   "metadata": {},
   "source": [
    "- Here we can infer that \"residual sugar\" has almost no correlation with \"quality\"\n",
    "- Since correlation is zero we can infer there is no linear relationship between these two predictors.\n",
    "- However it is safe to drop these features in case you're applying Linear Regression model to the dataset."
   ]
  },
  {
   "cell_type": "markdown",
   "id": "51d2ac7e",
   "metadata": {},
   "source": [
    "#### Graphical Overview"
   ]
  },
  {
   "cell_type": "code",
   "execution_count": 23,
   "id": "1e2ffb94",
   "metadata": {},
   "outputs": [
    {
     "data": {
      "text/plain": [
       "<AxesSubplot:xlabel='quality', ylabel='volatile acidity'>"
      ]
     },
     "execution_count": 23,
     "metadata": {},
     "output_type": "execute_result"
    },
    {
     "data": {
      "image/png": "[encoded data removed]",
      "text/plain": [
       "<Figure size 360x360 with 1 Axes>"
      ]
     },
     "metadata": {},
     "output_type": "display_data"
    }
   ],
   "source": [
    "# volatile acidity vs quality\n",
    "plot = plt.figure(figsize=(5,5))\n",
    "sns.barplot(x = \"quality\", y = \"volatile acidity\", data=df)"
   ]
  },
  {
   "cell_type": "markdown",
   "id": "cf615d4c",
   "metadata": {},
   "source": [
    "- Here we can observe if 'volatile acidity' increases 'quality' of wine decreases\n",
    "- Inversely proportional"
   ]
  },
  {
   "cell_type": "code",
   "execution_count": 24,
   "id": "a50da2ea",
   "metadata": {},
   "outputs": [
    {
     "data": {
      "text/plain": [
       "<AxesSubplot:xlabel='quality', ylabel='alcohol'>"
      ]
     },
     "execution_count": 24,
     "metadata": {},
     "output_type": "execute_result"
    },
    {
     "data": {
      "image/png": "[encoded data removed]",
      "text/plain": [
       "<Figure size 360x360 with 1 Axes>"
      ]
     },
     "metadata": {},
     "output_type": "display_data"
    }
   ],
   "source": [
    "# alcohol vs quality\n",
    "plot = plt.figure(figsize=(5,5))\n",
    "sns.barplot(x = \"quality\", y = \"alcohol\", data=df)"
   ]
  },
  {
   "cell_type": "markdown",
   "id": "ae997eee",
   "metadata": {},
   "source": [
    "- Higher the 'alcohol' content higher the 'quality' of wine\n",
    "- Directly proportional"
   ]
  },
  {
   "cell_type": "code",
   "execution_count": 25,
   "id": "b1b34272",
   "metadata": {},
   "outputs": [
    {
     "data": {
      "text/plain": [
       "<AxesSubplot:xlabel='quality', ylabel='citric acid'>"
      ]
     },
     "execution_count": 25,
     "metadata": {},
     "output_type": "execute_result"
    },
    {
     "data": {
      "image/png": "[encoded data removed]",
      "text/plain": [
       "<Figure size 360x360 with 1 Axes>"
      ]
     },
     "metadata": {},
     "output_type": "display_data"
    }
   ],
   "source": [
    "# citric acid vs quality\n",
    "plot = plt.figure(figsize=(5,5))\n",
    "sns.barplot(x = \"quality\", y = \"citric acid\", data=df)"
   ]
  },
  {
   "cell_type": "markdown",
   "id": "f47cc2f3",
   "metadata": {},
   "source": [
    "- Lower the 'citric acid' higher the 'quality' of wine\n",
    "- Inversely proportional"
   ]
  },
  {
   "cell_type": "markdown",
   "id": "93ff8463",
   "metadata": {},
   "source": [
    "### Model Evaluation"
   ]
  },
  {
   "cell_type": "code",
   "execution_count": 26,
   "id": "ca62ac05",
   "metadata": {},
   "outputs": [],
   "source": [
    "x = df.drop('quality',axis=1).values \n",
    "y = df['quality'].values"
   ]
  },
  {
   "cell_type": "code",
   "execution_count": 27,
   "id": "717308ce",
   "metadata": {},
   "outputs": [],
   "source": [
    "X_train, X_test, y_train, y_test = train_test_split(x,y,test_size=0.20, random_state = 6)"
   ]
  },
  {
   "cell_type": "markdown",
   "id": "28060e72",
   "metadata": {},
   "source": [
    "#### Robust Scaling\n",
    "- When dataset is skewed robust method of scaling is required"
   ]
  },
  {
   "cell_type": "code",
   "execution_count": 28,
   "id": "85fc476a",
   "metadata": {},
   "outputs": [],
   "source": [
    "rs = RobustScaler()\n",
    "X_train = rs.fit_transform(X_train)\n",
    "x_test = rs.transform(X_test)"
   ]
  },
  {
   "cell_type": "markdown",
   "id": "5f3c3b39",
   "metadata": {},
   "source": [
    "### K Nearest Neighbours"
   ]
  },
  {
   "cell_type": "code",
   "execution_count": 29,
   "id": "9c9c9b00",
   "metadata": {},
   "outputs": [
    {
     "name": "stdout",
     "output_type": "stream",
     "text": [
      "For n_neighbors =  5  score is  0.45625\n",
      "For n_neighbors =  10  score is  0.459375\n",
      "For n_neighbors =  15  score is  0.459375\n",
      "For n_neighbors =  20  score is  0.459375\n"
     ]
    }
   ],
   "source": [
    "# For weights = 'uniform'\n",
    "for n_neighbors in [5,10,15,20]:\n",
    "    model = KNeighborsClassifier(n_neighbors)\n",
    "    model.fit(X_train, y_train) \n",
    "    scr = model.score(X_test, y_test)\n",
    "    print(\"For n_neighbors = \", n_neighbors  ,\" score is \",scr)"
   ]
  },
  {
   "cell_type": "code",
   "execution_count": 30,
   "id": "68f8a853",
   "metadata": {},
   "outputs": [
    {
     "name": "stdout",
     "output_type": "stream",
     "text": [
      "For n_neighbors =  5  score is  0.421875\n",
      "For n_neighbors =  10  score is  0.459375\n",
      "For n_neighbors =  15  score is  0.459375\n",
      "For n_neighbors =  20  score is  0.459375\n"
     ]
    }
   ],
   "source": [
    "# For weights = 'distance'\n",
    "for n_neighbors in [5,10,15,20]:\n",
    "    model = KNeighborsClassifier(n_neighbors, weights='distance')\n",
    "    model.fit(X_train, y_train) \n",
    "    scr = model.score(X_test, y_test)\n",
    "    print(\"For n_neighbors = \", n_neighbors  ,\" score is \",scr)"
   ]
  },
  {
   "cell_type": "code",
   "execution_count": 31,
   "id": "2319254e",
   "metadata": {},
   "outputs": [],
   "source": [
    "# Creating a k-nearest neighbors Classifier\n",
    "KNN_Model = KNeighborsClassifier(n_neighbors=5, weights='distance')\n",
    "\n",
    "# Train the model using the training set\n",
    "KNN_Model.fit(X_train, y_train) \n",
    "results = KNN_Model.fit(X_train, y_train)"
   ]
  },
  {
   "cell_type": "code",
   "execution_count": 32,
   "id": "c79ec182",
   "metadata": {},
   "outputs": [],
   "source": [
    "KNN_train_predictions = KNN_Model.predict(X_train)"
   ]
  },
  {
   "cell_type": "code",
   "execution_count": 33,
   "id": "6ce6db8d",
   "metadata": {},
   "outputs": [],
   "source": [
    "KNN_test_predictions = KNN_Model.predict(X_test)"
   ]
  },
  {
   "cell_type": "code",
   "execution_count": 34,
   "id": "4c10b7ca",
   "metadata": {},
   "outputs": [
    {
     "name": "stdout",
     "output_type": "stream",
     "text": [
      "\n",
      " Train Data: KNN_Confusion Matrix:\n",
      " \n",
      "[[  8   0   0   0   0   0]\n",
      " [  0  42   0   0   0   0]\n",
      " [  0   0 535   0   0   0]\n",
      " [  0   0   0 513   0   0]\n",
      " [  0   0   0   0 167   0]\n",
      " [  0   0   0   0   0  14]]\n",
      "\n",
      " Train Data: KNN_Classification Report:\n",
      " \n",
      "              precision    recall  f1-score   support\n",
      "\n",
      "           3       1.00      1.00      1.00         8\n",
      "           4       1.00      1.00      1.00        42\n",
      "           5       1.00      1.00      1.00       535\n",
      "           6       1.00      1.00      1.00       513\n",
      "           7       1.00      1.00      1.00       167\n",
      "           8       1.00      1.00      1.00        14\n",
      "\n",
      "    accuracy                           1.00      1279\n",
      "   macro avg       1.00      1.00      1.00      1279\n",
      "weighted avg       1.00      1.00      1.00      1279\n",
      "\n",
      "\n",
      " \n",
      " Test Data: KNN_Confusion Matrix: \n",
      " \n",
      "[[  0   0   2   0   0   0]\n",
      " [  0   0  10   1   0   0]\n",
      " [  0   0 130  16   0   0]\n",
      " [  0   0 120   5   0   0]\n",
      " [  0   0  28   4   0   0]\n",
      " [  0   0   4   0   0   0]]\n",
      "\n",
      " Test Data: KNN_Classification Report:\n",
      " \n",
      "              precision    recall  f1-score   support\n",
      "\n",
      "           3       0.00      0.00      0.00         2\n",
      "           4       0.00      0.00      0.00        11\n",
      "           5       0.44      0.89      0.59       146\n",
      "           6       0.19      0.04      0.07       125\n",
      "           7       0.00      0.00      0.00        32\n",
      "           8       0.00      0.00      0.00         4\n",
      "\n",
      "    accuracy                           0.42       320\n",
      "   macro avg       0.11      0.16      0.11       320\n",
      "weighted avg       0.28      0.42      0.30       320\n",
      "\n"
     ]
    }
   ],
   "source": [
    "print(\"\\n Train Data: KNN_Confusion Matrix:\\n \")\n",
    "print(confusion_matrix(y_train, KNN_train_predictions))\n",
    "\n",
    "print(\"\\n Train Data: KNN_Classification Report:\\n \")\n",
    "print(classification_report(y_train, KNN_train_predictions))\n",
    "\n",
    "print(\"\\n \\n Test Data: KNN_Confusion Matrix: \\n \")\n",
    "print(confusion_matrix(y_test, KNN_test_predictions))\n",
    "\n",
    "print(\"\\n Test Data: KNN_Classification Report:\\n \")\n",
    "print(classification_report(y_test, KNN_test_predictions))"
   ]
  },
  {
   "cell_type": "markdown",
   "id": "fd4997a8",
   "metadata": {},
   "source": [
    "#### Choosing a K Value"
   ]
  },
  {
   "cell_type": "code",
   "execution_count": 35,
   "id": "ee6588f7",
   "metadata": {},
   "outputs": [
    {
     "name": "stdout",
     "output_type": "stream",
     "text": [
      "[0.5046729  0.58878505 0.54205607 0.57009346 0.48598131 0.43925234\n",
      " 0.42990654 0.53271028 0.52336449 0.54716981 0.38679245 0.53773585\n",
      " 0.52830189 0.43396226 0.53773585]\n"
     ]
    }
   ],
   "source": [
    "accuracy_rate = []\n",
    "\n",
    "for i in range(1,70):\n",
    "    \n",
    "    knn = KNeighborsClassifier(n_neighbors=i)\n",
    "    score=cross_val_score(knn,x,y,cv=15,scoring = 'accuracy') \n",
    "    accuracy_rate.append(score.mean())\n",
    "    \n",
    "print(score)\n",
    "# print(accuracy_rate)"
   ]
  },
  {
   "cell_type": "code",
   "execution_count": 36,
   "id": "a04aae04",
   "metadata": {},
   "outputs": [
    {
     "name": "stdout",
     "output_type": "stream",
     "text": [
      "[0.5046729  0.58878505 0.54205607 0.57009346 0.48598131 0.43925234\n",
      " 0.42990654 0.53271028 0.52336449 0.54716981 0.38679245 0.53773585\n",
      " 0.52830189 0.43396226 0.53773585]\n"
     ]
    }
   ],
   "source": [
    "error_rate = []\n",
    "\n",
    "for i in range(1,70):\n",
    "    \n",
    "    knn = KNeighborsClassifier(n_neighbors=i)\n",
    "    score=cross_val_score(knn,x,y,cv=15)\n",
    "    error_rate.append(1-score.mean())\n",
    "\n",
    "print(score)\n",
    "# print(error_rate)"
   ]
  },
  {
   "cell_type": "code",
   "execution_count": 37,
   "id": "f0111aa7",
   "metadata": {},
   "outputs": [
    {
     "data": {
      "text/plain": [
       "Text(0, 0.5, 'Accuracy Rate')"
      ]
     },
     "execution_count": 37,
     "metadata": {},
     "output_type": "execute_result"
    },
    {
     "data": {
      "image/png": "[encoded data removed]",
      "text/plain": [
       "<Figure size 1080x1080 with 1 Axes>"
      ]
     },
     "metadata": {},
     "output_type": "display_data"
    }
   ],
   "source": [
    "plt.figure(figsize=(15,15))\n",
    "\n",
    "plt.plot(range(1,70),accuracy_rate,color='blue', linestyle='dashed', marker='o',\n",
    "         markerfacecolor='yellow', markersize=10)\n",
    "\n",
    "plt.title('Accuracy Rate vs. K Value')\n",
    "plt.xlabel('K')\n",
    "plt.ylabel('Accuracy Rate')"
   ]
  },
  {
   "cell_type": "markdown",
   "id": "8e40035c",
   "metadata": {},
   "source": [
    "- Accuracy rate is not consistent"
   ]
  },
  {
   "cell_type": "code",
   "execution_count": 38,
   "id": "8d13a7cc",
   "metadata": {},
   "outputs": [
    {
     "data": {
      "text/plain": [
       "Text(0, 0.5, 'Error Rate')"
      ]
     },
     "execution_count": 38,
     "metadata": {},
     "output_type": "execute_result"
    },
    {
     "data": {
      "image/png": "[encoded data removed]",
      "text/plain": [
       "<Figure size 1080x1080 with 1 Axes>"
      ]
     },
     "metadata": {},
     "output_type": "display_data"
    }
   ],
   "source": [
    "plt.figure(figsize=(15,15))\n",
    "plt.plot(range(1,70),error_rate,color='blue', linestyle='dashed', marker='o',\n",
    "        markerfacecolor='red', markersize=10)\n",
    "plt.title('Error Rate vs. K Value')\n",
    "plt.xlabel('K')\n",
    "plt.ylabel('Error Rate')"
   ]
  },
  {
   "cell_type": "markdown",
   "id": "75eea340",
   "metadata": {},
   "source": [
    "- Error rate when k > 58 seems to be consistent but, there is dratic fall in k = 68 "
   ]
  },
  {
   "cell_type": "code",
   "execution_count": 39,
   "id": "3a8c68b2",
   "metadata": {},
   "outputs": [
    {
     "name": "stdout",
     "output_type": "stream",
     "text": [
      "WITH K=59\n",
      "\n",
      "\n",
      "              precision    recall  f1-score   support\n",
      "\n",
      "           3       0.00      0.00      0.00         2\n",
      "           4       0.00      0.00      0.00        11\n",
      "           5       0.46      1.00      0.63       146\n",
      "           6       0.50      0.01      0.02       125\n",
      "           7       0.00      0.00      0.00        32\n",
      "           8       0.00      0.00      0.00         4\n",
      "\n",
      "    accuracy                           0.46       320\n",
      "   macro avg       0.16      0.17      0.11       320\n",
      "weighted avg       0.40      0.46      0.29       320\n",
      "\n"
     ]
    }
   ],
   "source": [
    "# With k = 59\n",
    "knn = KNeighborsClassifier(n_neighbors=59)\n",
    "\n",
    "knn.fit(X_train,y_train)\n",
    "pred = knn.predict(X_test)\n",
    "\n",
    "print('WITH K=59')\n",
    "print('\\n')\n",
    "print(classification_report(y_test,pred))"
   ]
  },
  {
   "cell_type": "code",
   "execution_count": 40,
   "id": "e25a2cbe",
   "metadata": {},
   "outputs": [
    {
     "name": "stdout",
     "output_type": "stream",
     "text": [
      "WITH K=60\n",
      "\n",
      "\n",
      "              precision    recall  f1-score   support\n",
      "\n",
      "           3       0.00      0.00      0.00         2\n",
      "           4       0.00      0.00      0.00        11\n",
      "           5       0.46      1.00      0.63       146\n",
      "           6       0.50      0.01      0.02       125\n",
      "           7       0.00      0.00      0.00        32\n",
      "           8       0.00      0.00      0.00         4\n",
      "\n",
      "    accuracy                           0.46       320\n",
      "   macro avg       0.16      0.17      0.11       320\n",
      "weighted avg       0.40      0.46      0.29       320\n",
      "\n"
     ]
    }
   ],
   "source": [
    "# With k = 60\n",
    "knn = KNeighborsClassifier(n_neighbors=60)\n",
    "\n",
    "knn.fit(X_train,y_train)\n",
    "pred = knn.predict(X_test)\n",
    "\n",
    "print('WITH K=60')\n",
    "print('\\n')\n",
    "print(classification_report(y_test,pred))"
   ]
  },
  {
   "cell_type": "code",
   "execution_count": 41,
   "id": "871f4ed7",
   "metadata": {},
   "outputs": [
    {
     "name": "stdout",
     "output_type": "stream",
     "text": [
      "0.5863109829053602\n"
     ]
    }
   ],
   "source": [
    "pred_prob = knn.predict_proba(X_test)\n",
    "auc_score = roc_auc_score(y_test, pred_prob, multi_class='ovr')\n",
    "print(auc_score)"
   ]
  },
  {
   "cell_type": "markdown",
   "id": "637b6e90",
   "metadata": {},
   "source": [
    "### Conclusion\n",
    "- In this case, with an AUC score of 0.5863109829053602, the model's performance is only slightly better \n",
    "than random guessing. \n",
    "- It implies that the model has a limited ability to correctly distinguish between the positive and negative classes\n",
    "- Further analysis and improvement of the model may be necessary to achieve better performance and increase \n",
    "the AUC score."
   ]
  },
  {
   "cell_type": "markdown",
   "id": "fe9e85e7",
   "metadata": {},
   "source": [
    "### Linear Regression"
   ]
  },
  {
   "cell_type": "code",
   "execution_count": 42,
   "id": "32eb3c58",
   "metadata": {},
   "outputs": [
    {
     "data": {
      "text/plain": [
       "Index(['fixed acidity', 'volatile acidity', 'citric acid', 'residual sugar',\n",
       "       'chlorides', 'free sulfur dioxide', 'total sulfur dioxide', 'density',\n",
       "       'pH', 'sulphates', 'alcohol', 'quality'],\n",
       "      dtype='object')"
      ]
     },
     "execution_count": 42,
     "metadata": {},
     "output_type": "execute_result"
    }
   ],
   "source": [
    "df.columns"
   ]
  },
  {
   "cell_type": "code",
   "execution_count": 43,
   "id": "cb6c5638",
   "metadata": {},
   "outputs": [],
   "source": [
    "# Analyzing multcollinearity\n",
    "X_linear_multicollinearity = df[['fixed acidity', 'volatile acidity', 'citric acid', 'residual sugar',\n",
    "       'chlorides', 'free sulfur dioxide', 'total sulfur dioxide', 'density',\n",
    "       'pH', 'sulphates', 'alcohol']]"
   ]
  },
  {
   "cell_type": "code",
   "execution_count": 44,
   "id": "7b83f30f",
   "metadata": {},
   "outputs": [
    {
     "data": {
      "text/html": [
       "<div>\n",
       "<style scoped>\n",
       "    .dataframe tbody tr th:only-of-type {\n",
       "        vertical-align: middle;\n",
       "    }\n",
       "\n",
       "    .dataframe tbody tr th {\n",
       "        vertical-align: top;\n",
       "    }\n",
       "\n",
       "    .dataframe thead th {\n",
       "        text-align: right;\n",
       "    }\n",
       "</style>\n",
       "<table border=\"1\" class=\"dataframe\">\n",
       "  <thead>\n",
       "    <tr style=\"text-align: right;\">\n",
       "      <th></th>\n",
       "      <th>fixed acidity</th>\n",
       "      <th>volatile acidity</th>\n",
       "      <th>citric acid</th>\n",
       "      <th>residual sugar</th>\n",
       "      <th>chlorides</th>\n",
       "      <th>free sulfur dioxide</th>\n",
       "      <th>total sulfur dioxide</th>\n",
       "      <th>density</th>\n",
       "      <th>pH</th>\n",
       "      <th>sulphates</th>\n",
       "      <th>alcohol</th>\n",
       "    </tr>\n",
       "  </thead>\n",
       "  <tbody>\n",
       "    <tr>\n",
       "      <th>0</th>\n",
       "      <td>7.4</td>\n",
       "      <td>0.700</td>\n",
       "      <td>0.00</td>\n",
       "      <td>1.9</td>\n",
       "      <td>0.076</td>\n",
       "      <td>11.0</td>\n",
       "      <td>34.0</td>\n",
       "      <td>0.99780</td>\n",
       "      <td>3.51</td>\n",
       "      <td>0.56</td>\n",
       "      <td>9.4</td>\n",
       "    </tr>\n",
       "    <tr>\n",
       "      <th>1</th>\n",
       "      <td>7.8</td>\n",
       "      <td>0.880</td>\n",
       "      <td>0.00</td>\n",
       "      <td>2.6</td>\n",
       "      <td>0.098</td>\n",
       "      <td>25.0</td>\n",
       "      <td>67.0</td>\n",
       "      <td>0.99680</td>\n",
       "      <td>3.20</td>\n",
       "      <td>0.68</td>\n",
       "      <td>9.8</td>\n",
       "    </tr>\n",
       "    <tr>\n",
       "      <th>2</th>\n",
       "      <td>7.8</td>\n",
       "      <td>0.760</td>\n",
       "      <td>0.04</td>\n",
       "      <td>2.3</td>\n",
       "      <td>0.092</td>\n",
       "      <td>15.0</td>\n",
       "      <td>54.0</td>\n",
       "      <td>0.99700</td>\n",
       "      <td>3.26</td>\n",
       "      <td>0.65</td>\n",
       "      <td>9.8</td>\n",
       "    </tr>\n",
       "    <tr>\n",
       "      <th>3</th>\n",
       "      <td>11.2</td>\n",
       "      <td>0.280</td>\n",
       "      <td>0.56</td>\n",
       "      <td>1.9</td>\n",
       "      <td>0.075</td>\n",
       "      <td>17.0</td>\n",
       "      <td>60.0</td>\n",
       "      <td>0.99800</td>\n",
       "      <td>3.16</td>\n",
       "      <td>0.58</td>\n",
       "      <td>9.8</td>\n",
       "    </tr>\n",
       "    <tr>\n",
       "      <th>4</th>\n",
       "      <td>7.4</td>\n",
       "      <td>0.700</td>\n",
       "      <td>0.00</td>\n",
       "      <td>1.9</td>\n",
       "      <td>0.076</td>\n",
       "      <td>11.0</td>\n",
       "      <td>34.0</td>\n",
       "      <td>0.99780</td>\n",
       "      <td>3.51</td>\n",
       "      <td>0.56</td>\n",
       "      <td>9.4</td>\n",
       "    </tr>\n",
       "    <tr>\n",
       "      <th>...</th>\n",
       "      <td>...</td>\n",
       "      <td>...</td>\n",
       "      <td>...</td>\n",
       "      <td>...</td>\n",
       "      <td>...</td>\n",
       "      <td>...</td>\n",
       "      <td>...</td>\n",
       "      <td>...</td>\n",
       "      <td>...</td>\n",
       "      <td>...</td>\n",
       "      <td>...</td>\n",
       "    </tr>\n",
       "    <tr>\n",
       "      <th>1594</th>\n",
       "      <td>6.2</td>\n",
       "      <td>0.600</td>\n",
       "      <td>0.08</td>\n",
       "      <td>2.0</td>\n",
       "      <td>0.090</td>\n",
       "      <td>32.0</td>\n",
       "      <td>44.0</td>\n",
       "      <td>0.99490</td>\n",
       "      <td>3.45</td>\n",
       "      <td>0.58</td>\n",
       "      <td>10.5</td>\n",
       "    </tr>\n",
       "    <tr>\n",
       "      <th>1595</th>\n",
       "      <td>5.9</td>\n",
       "      <td>0.550</td>\n",
       "      <td>0.10</td>\n",
       "      <td>2.2</td>\n",
       "      <td>0.062</td>\n",
       "      <td>39.0</td>\n",
       "      <td>51.0</td>\n",
       "      <td>0.99512</td>\n",
       "      <td>3.52</td>\n",
       "      <td>0.76</td>\n",
       "      <td>11.2</td>\n",
       "    </tr>\n",
       "    <tr>\n",
       "      <th>1596</th>\n",
       "      <td>6.3</td>\n",
       "      <td>0.510</td>\n",
       "      <td>0.13</td>\n",
       "      <td>2.3</td>\n",
       "      <td>0.076</td>\n",
       "      <td>29.0</td>\n",
       "      <td>40.0</td>\n",
       "      <td>0.99574</td>\n",
       "      <td>3.42</td>\n",
       "      <td>0.75</td>\n",
       "      <td>11.0</td>\n",
       "    </tr>\n",
       "    <tr>\n",
       "      <th>1597</th>\n",
       "      <td>5.9</td>\n",
       "      <td>0.645</td>\n",
       "      <td>0.12</td>\n",
       "      <td>2.0</td>\n",
       "      <td>0.075</td>\n",
       "      <td>32.0</td>\n",
       "      <td>44.0</td>\n",
       "      <td>0.99547</td>\n",
       "      <td>3.57</td>\n",
       "      <td>0.71</td>\n",
       "      <td>10.2</td>\n",
       "    </tr>\n",
       "    <tr>\n",
       "      <th>1598</th>\n",
       "      <td>6.0</td>\n",
       "      <td>0.310</td>\n",
       "      <td>0.47</td>\n",
       "      <td>3.6</td>\n",
       "      <td>0.067</td>\n",
       "      <td>18.0</td>\n",
       "      <td>42.0</td>\n",
       "      <td>0.99549</td>\n",
       "      <td>3.39</td>\n",
       "      <td>0.66</td>\n",
       "      <td>11.0</td>\n",
       "    </tr>\n",
       "  </tbody>\n",
       "</table>\n",
       "<p>1599 rows × 11 columns</p>\n",
       "</div>"
      ],
      "text/plain": [
       "      fixed acidity  volatile acidity  citric acid  residual sugar  chlorides  \\\n",
       "0               7.4             0.700         0.00             1.9      0.076   \n",
       "1               7.8             0.880         0.00             2.6      0.098   \n",
       "2               7.8             0.760         0.04             2.3      0.092   \n",
       "3              11.2             0.280         0.56             1.9      0.075   \n",
       "4               7.4             0.700         0.00             1.9      0.076   \n",
       "...             ...               ...          ...             ...        ...   \n",
       "1594            6.2             0.600         0.08             2.0      0.090   \n",
       "1595            5.9             0.550         0.10             2.2      0.062   \n",
       "1596            6.3             0.510         0.13             2.3      0.076   \n",
       "1597            5.9             0.645         0.12             2.0      0.075   \n",
       "1598            6.0             0.310         0.47             3.6      0.067   \n",
       "\n",
       "      free sulfur dioxide  total sulfur dioxide  density    pH  sulphates  \\\n",
       "0                    11.0                  34.0  0.99780  3.51       0.56   \n",
       "1                    25.0                  67.0  0.99680  3.20       0.68   \n",
       "2                    15.0                  54.0  0.99700  3.26       0.65   \n",
       "3                    17.0                  60.0  0.99800  3.16       0.58   \n",
       "4                    11.0                  34.0  0.99780  3.51       0.56   \n",
       "...                   ...                   ...      ...   ...        ...   \n",
       "1594                 32.0                  44.0  0.99490  3.45       0.58   \n",
       "1595                 39.0                  51.0  0.99512  3.52       0.76   \n",
       "1596                 29.0                  40.0  0.99574  3.42       0.75   \n",
       "1597                 32.0                  44.0  0.99547  3.57       0.71   \n",
       "1598                 18.0                  42.0  0.99549  3.39       0.66   \n",
       "\n",
       "      alcohol  \n",
       "0         9.4  \n",
       "1         9.8  \n",
       "2         9.8  \n",
       "3         9.8  \n",
       "4         9.4  \n",
       "...       ...  \n",
       "1594     10.5  \n",
       "1595     11.2  \n",
       "1596     11.0  \n",
       "1597     10.2  \n",
       "1598     11.0  \n",
       "\n",
       "[1599 rows x 11 columns]"
      ]
     },
     "execution_count": 44,
     "metadata": {},
     "output_type": "execute_result"
    }
   ],
   "source": [
    "X_linear_multicollinearity"
   ]
  },
  {
   "cell_type": "code",
   "execution_count": 45,
   "id": "c4b25150",
   "metadata": {},
   "outputs": [
    {
     "data": {
      "text/html": [
       "<div>\n",
       "<style scoped>\n",
       "    .dataframe tbody tr th:only-of-type {\n",
       "        vertical-align: middle;\n",
       "    }\n",
       "\n",
       "    .dataframe tbody tr th {\n",
       "        vertical-align: top;\n",
       "    }\n",
       "\n",
       "    .dataframe thead th {\n",
       "        text-align: right;\n",
       "    }\n",
       "</style>\n",
       "<table border=\"1\" class=\"dataframe\">\n",
       "  <thead>\n",
       "    <tr style=\"text-align: right;\">\n",
       "      <th></th>\n",
       "      <th>feature</th>\n",
       "    </tr>\n",
       "  </thead>\n",
       "  <tbody>\n",
       "    <tr>\n",
       "      <th>0</th>\n",
       "      <td>fixed acidity</td>\n",
       "    </tr>\n",
       "    <tr>\n",
       "      <th>1</th>\n",
       "      <td>volatile acidity</td>\n",
       "    </tr>\n",
       "    <tr>\n",
       "      <th>2</th>\n",
       "      <td>citric acid</td>\n",
       "    </tr>\n",
       "    <tr>\n",
       "      <th>3</th>\n",
       "      <td>residual sugar</td>\n",
       "    </tr>\n",
       "    <tr>\n",
       "      <th>4</th>\n",
       "      <td>chlorides</td>\n",
       "    </tr>\n",
       "    <tr>\n",
       "      <th>5</th>\n",
       "      <td>free sulfur dioxide</td>\n",
       "    </tr>\n",
       "    <tr>\n",
       "      <th>6</th>\n",
       "      <td>total sulfur dioxide</td>\n",
       "    </tr>\n",
       "    <tr>\n",
       "      <th>7</th>\n",
       "      <td>density</td>\n",
       "    </tr>\n",
       "    <tr>\n",
       "      <th>8</th>\n",
       "      <td>pH</td>\n",
       "    </tr>\n",
       "    <tr>\n",
       "      <th>9</th>\n",
       "      <td>sulphates</td>\n",
       "    </tr>\n",
       "    <tr>\n",
       "      <th>10</th>\n",
       "      <td>alcohol</td>\n",
       "    </tr>\n",
       "  </tbody>\n",
       "</table>\n",
       "</div>"
      ],
      "text/plain": [
       "                 feature\n",
       "0          fixed acidity\n",
       "1       volatile acidity\n",
       "2            citric acid\n",
       "3         residual sugar\n",
       "4              chlorides\n",
       "5    free sulfur dioxide\n",
       "6   total sulfur dioxide\n",
       "7                density\n",
       "8                     pH\n",
       "9              sulphates\n",
       "10               alcohol"
      ]
     },
     "execution_count": 45,
     "metadata": {},
     "output_type": "execute_result"
    }
   ],
   "source": [
    "vif_quality = pd.DataFrame()\n",
    "vif_quality[\"feature\"] = X_linear_multicollinearity.columns\n",
    "vif_quality"
   ]
  },
  {
   "cell_type": "markdown",
   "id": "a6b5b39d",
   "metadata": {},
   "source": [
    "#### VIF Calculation"
   ]
  },
  {
   "cell_type": "code",
   "execution_count": 46,
   "id": "fcc6d62e",
   "metadata": {},
   "outputs": [
    {
     "name": "stdout",
     "output_type": "stream",
     "text": [
      "                 feature          VIF\n",
      "0          fixed acidity    74.452265\n",
      "1       volatile acidity    17.060026\n",
      "2            citric acid     9.183495\n",
      "3         residual sugar     4.662992\n",
      "4              chlorides     6.554877\n",
      "5    free sulfur dioxide     6.442682\n",
      "6   total sulfur dioxide     6.519699\n",
      "7                density  1479.287209\n",
      "8                     pH  1070.967685\n",
      "9              sulphates    21.590621\n",
      "10               alcohol   124.394866\n"
     ]
    }
   ],
   "source": [
    "vif_quality[\"VIF\"] = [variance_inflation_factor(X_linear_multicollinearity, i)\n",
    "                          for i in range(11)]\n",
    "  \n",
    "print(vif_quality)"
   ]
  },
  {
   "cell_type": "code",
   "execution_count": 47,
   "id": "8bbf98a0",
   "metadata": {},
   "outputs": [],
   "source": [
    "vif_quality['Multicollinearity']=['yes' if vif_quality['VIF'][i]>5 else 'no' for i in range(11)]"
   ]
  },
  {
   "cell_type": "code",
   "execution_count": 48,
   "id": "ca020061",
   "metadata": {},
   "outputs": [
    {
     "data": {
      "text/html": [
       "<div>\n",
       "<style scoped>\n",
       "    .dataframe tbody tr th:only-of-type {\n",
       "        vertical-align: middle;\n",
       "    }\n",
       "\n",
       "    .dataframe tbody tr th {\n",
       "        vertical-align: top;\n",
       "    }\n",
       "\n",
       "    .dataframe thead th {\n",
       "        text-align: right;\n",
       "    }\n",
       "</style>\n",
       "<table border=\"1\" class=\"dataframe\">\n",
       "  <thead>\n",
       "    <tr style=\"text-align: right;\">\n",
       "      <th></th>\n",
       "      <th>feature</th>\n",
       "      <th>VIF</th>\n",
       "      <th>Multicollinearity</th>\n",
       "    </tr>\n",
       "  </thead>\n",
       "  <tbody>\n",
       "    <tr>\n",
       "      <th>0</th>\n",
       "      <td>fixed acidity</td>\n",
       "      <td>74.452265</td>\n",
       "      <td>yes</td>\n",
       "    </tr>\n",
       "    <tr>\n",
       "      <th>1</th>\n",
       "      <td>volatile acidity</td>\n",
       "      <td>17.060026</td>\n",
       "      <td>yes</td>\n",
       "    </tr>\n",
       "    <tr>\n",
       "      <th>2</th>\n",
       "      <td>citric acid</td>\n",
       "      <td>9.183495</td>\n",
       "      <td>yes</td>\n",
       "    </tr>\n",
       "    <tr>\n",
       "      <th>3</th>\n",
       "      <td>residual sugar</td>\n",
       "      <td>4.662992</td>\n",
       "      <td>no</td>\n",
       "    </tr>\n",
       "    <tr>\n",
       "      <th>4</th>\n",
       "      <td>chlorides</td>\n",
       "      <td>6.554877</td>\n",
       "      <td>yes</td>\n",
       "    </tr>\n",
       "    <tr>\n",
       "      <th>5</th>\n",
       "      <td>free sulfur dioxide</td>\n",
       "      <td>6.442682</td>\n",
       "      <td>yes</td>\n",
       "    </tr>\n",
       "    <tr>\n",
       "      <th>6</th>\n",
       "      <td>total sulfur dioxide</td>\n",
       "      <td>6.519699</td>\n",
       "      <td>yes</td>\n",
       "    </tr>\n",
       "    <tr>\n",
       "      <th>7</th>\n",
       "      <td>density</td>\n",
       "      <td>1479.287209</td>\n",
       "      <td>yes</td>\n",
       "    </tr>\n",
       "    <tr>\n",
       "      <th>8</th>\n",
       "      <td>pH</td>\n",
       "      <td>1070.967685</td>\n",
       "      <td>yes</td>\n",
       "    </tr>\n",
       "    <tr>\n",
       "      <th>9</th>\n",
       "      <td>sulphates</td>\n",
       "      <td>21.590621</td>\n",
       "      <td>yes</td>\n",
       "    </tr>\n",
       "    <tr>\n",
       "      <th>10</th>\n",
       "      <td>alcohol</td>\n",
       "      <td>124.394866</td>\n",
       "      <td>yes</td>\n",
       "    </tr>\n",
       "  </tbody>\n",
       "</table>\n",
       "</div>"
      ],
      "text/plain": [
       "                 feature          VIF Multicollinearity\n",
       "0          fixed acidity    74.452265               yes\n",
       "1       volatile acidity    17.060026               yes\n",
       "2            citric acid     9.183495               yes\n",
       "3         residual sugar     4.662992                no\n",
       "4              chlorides     6.554877               yes\n",
       "5    free sulfur dioxide     6.442682               yes\n",
       "6   total sulfur dioxide     6.519699               yes\n",
       "7                density  1479.287209               yes\n",
       "8                     pH  1070.967685               yes\n",
       "9              sulphates    21.590621               yes\n",
       "10               alcohol   124.394866               yes"
      ]
     },
     "execution_count": 48,
     "metadata": {},
     "output_type": "execute_result"
    }
   ],
   "source": [
    "vif_quality"
   ]
  },
  {
   "cell_type": "markdown",
   "id": "8b9344e6",
   "metadata": {},
   "source": [
    "- Here we can observe there is no multicollinearity with 'residual sugar' all other features are multicollinear"
   ]
  },
  {
   "cell_type": "markdown",
   "id": "b9502af0",
   "metadata": {},
   "source": [
    "- Based on the provided VIF values, the feature \"density\" has an extremely high VIF of 1479.287209, \n",
    "indicating a strong multicollinearity issue. \n",
    "- Therefore, removing the \"density\" feature could be a suitable option to address multicollinearity in the \n",
    "regression model."
   ]
  },
  {
   "cell_type": "code",
   "execution_count": 49,
   "id": "668cb3a2",
   "metadata": {},
   "outputs": [],
   "source": [
    "df_linear = pd.DataFrame(X_linear_multicollinearity)\n",
    "\n",
    "# Drop the 'density' feature\n",
    "df_linear = df_linear.drop('density', axis=1)"
   ]
  },
  {
   "cell_type": "code",
   "execution_count": 50,
   "id": "ebbc3cfa",
   "metadata": {},
   "outputs": [
    {
     "data": {
      "text/html": [
       "<div>\n",
       "<style scoped>\n",
       "    .dataframe tbody tr th:only-of-type {\n",
       "        vertical-align: middle;\n",
       "    }\n",
       "\n",
       "    .dataframe tbody tr th {\n",
       "        vertical-align: top;\n",
       "    }\n",
       "\n",
       "    .dataframe thead th {\n",
       "        text-align: right;\n",
       "    }\n",
       "</style>\n",
       "<table border=\"1\" class=\"dataframe\">\n",
       "  <thead>\n",
       "    <tr style=\"text-align: right;\">\n",
       "      <th></th>\n",
       "      <th>fixed acidity</th>\n",
       "      <th>volatile acidity</th>\n",
       "      <th>citric acid</th>\n",
       "      <th>residual sugar</th>\n",
       "      <th>chlorides</th>\n",
       "      <th>free sulfur dioxide</th>\n",
       "      <th>total sulfur dioxide</th>\n",
       "      <th>pH</th>\n",
       "      <th>sulphates</th>\n",
       "      <th>alcohol</th>\n",
       "    </tr>\n",
       "  </thead>\n",
       "  <tbody>\n",
       "    <tr>\n",
       "      <th>0</th>\n",
       "      <td>7.4</td>\n",
       "      <td>0.70</td>\n",
       "      <td>0.00</td>\n",
       "      <td>1.9</td>\n",
       "      <td>0.076</td>\n",
       "      <td>11.0</td>\n",
       "      <td>34.0</td>\n",
       "      <td>3.51</td>\n",
       "      <td>0.56</td>\n",
       "      <td>9.4</td>\n",
       "    </tr>\n",
       "    <tr>\n",
       "      <th>1</th>\n",
       "      <td>7.8</td>\n",
       "      <td>0.88</td>\n",
       "      <td>0.00</td>\n",
       "      <td>2.6</td>\n",
       "      <td>0.098</td>\n",
       "      <td>25.0</td>\n",
       "      <td>67.0</td>\n",
       "      <td>3.20</td>\n",
       "      <td>0.68</td>\n",
       "      <td>9.8</td>\n",
       "    </tr>\n",
       "    <tr>\n",
       "      <th>2</th>\n",
       "      <td>7.8</td>\n",
       "      <td>0.76</td>\n",
       "      <td>0.04</td>\n",
       "      <td>2.3</td>\n",
       "      <td>0.092</td>\n",
       "      <td>15.0</td>\n",
       "      <td>54.0</td>\n",
       "      <td>3.26</td>\n",
       "      <td>0.65</td>\n",
       "      <td>9.8</td>\n",
       "    </tr>\n",
       "    <tr>\n",
       "      <th>3</th>\n",
       "      <td>11.2</td>\n",
       "      <td>0.28</td>\n",
       "      <td>0.56</td>\n",
       "      <td>1.9</td>\n",
       "      <td>0.075</td>\n",
       "      <td>17.0</td>\n",
       "      <td>60.0</td>\n",
       "      <td>3.16</td>\n",
       "      <td>0.58</td>\n",
       "      <td>9.8</td>\n",
       "    </tr>\n",
       "    <tr>\n",
       "      <th>4</th>\n",
       "      <td>7.4</td>\n",
       "      <td>0.70</td>\n",
       "      <td>0.00</td>\n",
       "      <td>1.9</td>\n",
       "      <td>0.076</td>\n",
       "      <td>11.0</td>\n",
       "      <td>34.0</td>\n",
       "      <td>3.51</td>\n",
       "      <td>0.56</td>\n",
       "      <td>9.4</td>\n",
       "    </tr>\n",
       "  </tbody>\n",
       "</table>\n",
       "</div>"
      ],
      "text/plain": [
       "   fixed acidity  volatile acidity  citric acid  residual sugar  chlorides  \\\n",
       "0            7.4              0.70         0.00             1.9      0.076   \n",
       "1            7.8              0.88         0.00             2.6      0.098   \n",
       "2            7.8              0.76         0.04             2.3      0.092   \n",
       "3           11.2              0.28         0.56             1.9      0.075   \n",
       "4            7.4              0.70         0.00             1.9      0.076   \n",
       "\n",
       "   free sulfur dioxide  total sulfur dioxide    pH  sulphates  alcohol  \n",
       "0                 11.0                  34.0  3.51       0.56      9.4  \n",
       "1                 25.0                  67.0  3.20       0.68      9.8  \n",
       "2                 15.0                  54.0  3.26       0.65      9.8  \n",
       "3                 17.0                  60.0  3.16       0.58      9.8  \n",
       "4                 11.0                  34.0  3.51       0.56      9.4  "
      ]
     },
     "execution_count": 50,
     "metadata": {},
     "output_type": "execute_result"
    }
   ],
   "source": [
    "df_linear.head()"
   ]
  },
  {
   "cell_type": "code",
   "execution_count": 51,
   "id": "7f50a535",
   "metadata": {},
   "outputs": [
    {
     "data": {
      "text/html": [
       "<div>\n",
       "<style scoped>\n",
       "    .dataframe tbody tr th:only-of-type {\n",
       "        vertical-align: middle;\n",
       "    }\n",
       "\n",
       "    .dataframe tbody tr th {\n",
       "        vertical-align: top;\n",
       "    }\n",
       "\n",
       "    .dataframe thead th {\n",
       "        text-align: right;\n",
       "    }\n",
       "</style>\n",
       "<table border=\"1\" class=\"dataframe\">\n",
       "  <thead>\n",
       "    <tr style=\"text-align: right;\">\n",
       "      <th></th>\n",
       "      <th>feature1</th>\n",
       "    </tr>\n",
       "  </thead>\n",
       "  <tbody>\n",
       "    <tr>\n",
       "      <th>0</th>\n",
       "      <td>fixed acidity</td>\n",
       "    </tr>\n",
       "    <tr>\n",
       "      <th>1</th>\n",
       "      <td>volatile acidity</td>\n",
       "    </tr>\n",
       "    <tr>\n",
       "      <th>2</th>\n",
       "      <td>citric acid</td>\n",
       "    </tr>\n",
       "    <tr>\n",
       "      <th>3</th>\n",
       "      <td>residual sugar</td>\n",
       "    </tr>\n",
       "    <tr>\n",
       "      <th>4</th>\n",
       "      <td>chlorides</td>\n",
       "    </tr>\n",
       "    <tr>\n",
       "      <th>5</th>\n",
       "      <td>free sulfur dioxide</td>\n",
       "    </tr>\n",
       "    <tr>\n",
       "      <th>6</th>\n",
       "      <td>total sulfur dioxide</td>\n",
       "    </tr>\n",
       "    <tr>\n",
       "      <th>7</th>\n",
       "      <td>pH</td>\n",
       "    </tr>\n",
       "    <tr>\n",
       "      <th>8</th>\n",
       "      <td>sulphates</td>\n",
       "    </tr>\n",
       "    <tr>\n",
       "      <th>9</th>\n",
       "      <td>alcohol</td>\n",
       "    </tr>\n",
       "  </tbody>\n",
       "</table>\n",
       "</div>"
      ],
      "text/plain": [
       "               feature1\n",
       "0         fixed acidity\n",
       "1      volatile acidity\n",
       "2           citric acid\n",
       "3        residual sugar\n",
       "4             chlorides\n",
       "5   free sulfur dioxide\n",
       "6  total sulfur dioxide\n",
       "7                    pH\n",
       "8             sulphates\n",
       "9               alcohol"
      ]
     },
     "execution_count": 51,
     "metadata": {},
     "output_type": "execute_result"
    }
   ],
   "source": [
    "vif_quality1 = pd.DataFrame()\n",
    "vif_quality1[\"feature1\"] = df_linear.columns\n",
    "vif_quality1"
   ]
  },
  {
   "cell_type": "code",
   "execution_count": 52,
   "id": "b8bc97f7",
   "metadata": {},
   "outputs": [
    {
     "name": "stdout",
     "output_type": "stream",
     "text": [
      "               feature1        VIF1\n",
      "0         fixed acidity   40.216574\n",
      "1      volatile acidity   17.058940\n",
      "2           citric acid    9.149028\n",
      "3        residual sugar    4.662789\n",
      "4             chlorides    6.017799\n",
      "5   free sulfur dioxide    6.390157\n",
      "6  total sulfur dioxide    6.096300\n",
      "7                    pH  158.025734\n",
      "8             sulphates   21.552410\n",
      "9               alcohol  121.980842\n"
     ]
    }
   ],
   "source": [
    "vif_quality1[\"VIF1\"] = [variance_inflation_factor(df_linear, i)\n",
    "                          for i in range(10)]\n",
    "  \n",
    "print(vif_quality1)"
   ]
  },
  {
   "cell_type": "code",
   "execution_count": 53,
   "id": "a0f02a11",
   "metadata": {},
   "outputs": [],
   "source": [
    "vif_quality1['Multicollinearity1']=['yes' if vif_quality1['VIF1'][i]>5 else 'no' for i in range(10)]"
   ]
  },
  {
   "cell_type": "code",
   "execution_count": 54,
   "id": "5de811ce",
   "metadata": {},
   "outputs": [
    {
     "data": {
      "text/html": [
       "<div>\n",
       "<style scoped>\n",
       "    .dataframe tbody tr th:only-of-type {\n",
       "        vertical-align: middle;\n",
       "    }\n",
       "\n",
       "    .dataframe tbody tr th {\n",
       "        vertical-align: top;\n",
       "    }\n",
       "\n",
       "    .dataframe thead th {\n",
       "        text-align: right;\n",
       "    }\n",
       "</style>\n",
       "<table border=\"1\" class=\"dataframe\">\n",
       "  <thead>\n",
       "    <tr style=\"text-align: right;\">\n",
       "      <th></th>\n",
       "      <th>feature1</th>\n",
       "      <th>VIF1</th>\n",
       "      <th>Multicollinearity1</th>\n",
       "    </tr>\n",
       "  </thead>\n",
       "  <tbody>\n",
       "    <tr>\n",
       "      <th>0</th>\n",
       "      <td>fixed acidity</td>\n",
       "      <td>40.216574</td>\n",
       "      <td>yes</td>\n",
       "    </tr>\n",
       "    <tr>\n",
       "      <th>1</th>\n",
       "      <td>volatile acidity</td>\n",
       "      <td>17.058940</td>\n",
       "      <td>yes</td>\n",
       "    </tr>\n",
       "    <tr>\n",
       "      <th>2</th>\n",
       "      <td>citric acid</td>\n",
       "      <td>9.149028</td>\n",
       "      <td>yes</td>\n",
       "    </tr>\n",
       "    <tr>\n",
       "      <th>3</th>\n",
       "      <td>residual sugar</td>\n",
       "      <td>4.662789</td>\n",
       "      <td>no</td>\n",
       "    </tr>\n",
       "    <tr>\n",
       "      <th>4</th>\n",
       "      <td>chlorides</td>\n",
       "      <td>6.017799</td>\n",
       "      <td>yes</td>\n",
       "    </tr>\n",
       "    <tr>\n",
       "      <th>5</th>\n",
       "      <td>free sulfur dioxide</td>\n",
       "      <td>6.390157</td>\n",
       "      <td>yes</td>\n",
       "    </tr>\n",
       "    <tr>\n",
       "      <th>6</th>\n",
       "      <td>total sulfur dioxide</td>\n",
       "      <td>6.096300</td>\n",
       "      <td>yes</td>\n",
       "    </tr>\n",
       "    <tr>\n",
       "      <th>7</th>\n",
       "      <td>pH</td>\n",
       "      <td>158.025734</td>\n",
       "      <td>yes</td>\n",
       "    </tr>\n",
       "    <tr>\n",
       "      <th>8</th>\n",
       "      <td>sulphates</td>\n",
       "      <td>21.552410</td>\n",
       "      <td>yes</td>\n",
       "    </tr>\n",
       "    <tr>\n",
       "      <th>9</th>\n",
       "      <td>alcohol</td>\n",
       "      <td>121.980842</td>\n",
       "      <td>yes</td>\n",
       "    </tr>\n",
       "  </tbody>\n",
       "</table>\n",
       "</div>"
      ],
      "text/plain": [
       "               feature1        VIF1 Multicollinearity1\n",
       "0         fixed acidity   40.216574                yes\n",
       "1      volatile acidity   17.058940                yes\n",
       "2           citric acid    9.149028                yes\n",
       "3        residual sugar    4.662789                 no\n",
       "4             chlorides    6.017799                yes\n",
       "5   free sulfur dioxide    6.390157                yes\n",
       "6  total sulfur dioxide    6.096300                yes\n",
       "7                    pH  158.025734                yes\n",
       "8             sulphates   21.552410                yes\n",
       "9               alcohol  121.980842                yes"
      ]
     },
     "execution_count": 54,
     "metadata": {},
     "output_type": "execute_result"
    }
   ],
   "source": [
    "vif_quality1"
   ]
  },
  {
   "cell_type": "markdown",
   "id": "5d51993c",
   "metadata": {},
   "source": [
    "- Based on the updated VIF values you provided, the features \"fixed acidity,\" \"volatile acidity,\" \"pH,\" \n",
    "\"sulphates,\" and \"alcohol\" still exhibit high VIF values, indicating multicollinearity. \n",
    "- Consider removing one or more of these features to further mitigate the multicollinearity issue."
   ]
  },
  {
   "cell_type": "code",
   "execution_count": 55,
   "id": "d9e9dda5",
   "metadata": {},
   "outputs": [],
   "source": [
    "df_linear2 = pd.DataFrame(df_linear)\n",
    "\n",
    "features_to_remove = ['pH', 'fixed acidity', 'alcohol', 'sulphates', 'free sulfur dioxide', 'volatile acidity']\n",
    "df_linear2 = df_linear.drop(features_to_remove, axis=1)"
   ]
  },
  {
   "cell_type": "code",
   "execution_count": 56,
   "id": "acb07b91",
   "metadata": {},
   "outputs": [
    {
     "name": "stdout",
     "output_type": "stream",
     "text": [
      "   citric acid  residual sugar  chlorides  total sulfur dioxide\n",
      "0         0.00             1.9      0.076                  34.0\n",
      "1         0.00             2.6      0.098                  67.0\n",
      "2         0.04             2.3      0.092                  54.0\n",
      "3         0.56             1.9      0.075                  60.0\n",
      "4         0.00             1.9      0.076                  34.0\n",
      "(1599, 4)\n"
     ]
    }
   ],
   "source": [
    "print(df_linear2.head())\n",
    "print(df_linear2.shape)"
   ]
  },
  {
   "cell_type": "code",
   "execution_count": 57,
   "id": "d6f8ab8d",
   "metadata": {},
   "outputs": [
    {
     "data": {
      "text/html": [
       "<div>\n",
       "<style scoped>\n",
       "    .dataframe tbody tr th:only-of-type {\n",
       "        vertical-align: middle;\n",
       "    }\n",
       "\n",
       "    .dataframe tbody tr th {\n",
       "        vertical-align: top;\n",
       "    }\n",
       "\n",
       "    .dataframe thead th {\n",
       "        text-align: right;\n",
       "    }\n",
       "</style>\n",
       "<table border=\"1\" class=\"dataframe\">\n",
       "  <thead>\n",
       "    <tr style=\"text-align: right;\">\n",
       "      <th></th>\n",
       "      <th>feature2</th>\n",
       "    </tr>\n",
       "  </thead>\n",
       "  <tbody>\n",
       "    <tr>\n",
       "      <th>0</th>\n",
       "      <td>citric acid</td>\n",
       "    </tr>\n",
       "    <tr>\n",
       "      <th>1</th>\n",
       "      <td>residual sugar</td>\n",
       "    </tr>\n",
       "    <tr>\n",
       "      <th>2</th>\n",
       "      <td>chlorides</td>\n",
       "    </tr>\n",
       "    <tr>\n",
       "      <th>3</th>\n",
       "      <td>total sulfur dioxide</td>\n",
       "    </tr>\n",
       "  </tbody>\n",
       "</table>\n",
       "</div>"
      ],
      "text/plain": [
       "               feature2\n",
       "0           citric acid\n",
       "1        residual sugar\n",
       "2             chlorides\n",
       "3  total sulfur dioxide"
      ]
     },
     "execution_count": 57,
     "metadata": {},
     "output_type": "execute_result"
    }
   ],
   "source": [
    "vif_quality2 = pd.DataFrame()\n",
    "vif_quality2[\"feature2\"] = df_linear2.columns\n",
    "vif_quality2"
   ]
  },
  {
   "cell_type": "code",
   "execution_count": 58,
   "id": "6f051104",
   "metadata": {},
   "outputs": [
    {
     "name": "stdout",
     "output_type": "stream",
     "text": [
      "               feature2      VIF2\n",
      "0           citric acid  2.892174\n",
      "1        residual sugar  3.612935\n",
      "2             chlorides  3.452252\n",
      "3  total sulfur dioxide  2.778654\n"
     ]
    }
   ],
   "source": [
    "vif_quality2[\"VIF2\"] = [variance_inflation_factor(df_linear2, i)\n",
    "                          for i in range(df_linear2.shape[1])]\n",
    "  \n",
    "print(vif_quality2)"
   ]
  },
  {
   "cell_type": "code",
   "execution_count": 59,
   "id": "4134c371",
   "metadata": {},
   "outputs": [
    {
     "data": {
      "text/html": [
       "<div>\n",
       "<style scoped>\n",
       "    .dataframe tbody tr th:only-of-type {\n",
       "        vertical-align: middle;\n",
       "    }\n",
       "\n",
       "    .dataframe tbody tr th {\n",
       "        vertical-align: top;\n",
       "    }\n",
       "\n",
       "    .dataframe thead th {\n",
       "        text-align: right;\n",
       "    }\n",
       "</style>\n",
       "<table border=\"1\" class=\"dataframe\">\n",
       "  <thead>\n",
       "    <tr style=\"text-align: right;\">\n",
       "      <th></th>\n",
       "      <th>feature2</th>\n",
       "      <th>VIF2</th>\n",
       "      <th>Multicollinearity2</th>\n",
       "    </tr>\n",
       "  </thead>\n",
       "  <tbody>\n",
       "    <tr>\n",
       "      <th>0</th>\n",
       "      <td>citric acid</td>\n",
       "      <td>2.892174</td>\n",
       "      <td>no</td>\n",
       "    </tr>\n",
       "    <tr>\n",
       "      <th>1</th>\n",
       "      <td>residual sugar</td>\n",
       "      <td>3.612935</td>\n",
       "      <td>no</td>\n",
       "    </tr>\n",
       "    <tr>\n",
       "      <th>2</th>\n",
       "      <td>chlorides</td>\n",
       "      <td>3.452252</td>\n",
       "      <td>no</td>\n",
       "    </tr>\n",
       "    <tr>\n",
       "      <th>3</th>\n",
       "      <td>total sulfur dioxide</td>\n",
       "      <td>2.778654</td>\n",
       "      <td>no</td>\n",
       "    </tr>\n",
       "  </tbody>\n",
       "</table>\n",
       "</div>"
      ],
      "text/plain": [
       "               feature2      VIF2 Multicollinearity2\n",
       "0           citric acid  2.892174                 no\n",
       "1        residual sugar  3.612935                 no\n",
       "2             chlorides  3.452252                 no\n",
       "3  total sulfur dioxide  2.778654                 no"
      ]
     },
     "execution_count": 59,
     "metadata": {},
     "output_type": "execute_result"
    }
   ],
   "source": [
    "vif_quality2['Multicollinearity2']=['yes' if vif_quality2['VIF2'][i]>5 else 'no' for i in range(df_linear2.shape[1])]\n",
    "vif_quality2"
   ]
  },
  {
   "cell_type": "code",
   "execution_count": 60,
   "id": "eb950659",
   "metadata": {},
   "outputs": [
    {
     "name": "stdout",
     "output_type": "stream",
     "text": [
      "(1119, 4)\n",
      "(480, 4)\n"
     ]
    }
   ],
   "source": [
    "X_ldata = df[['citric acid', 'residual sugar', 'chlorides', 'total sulfur dioxide']]\n",
    "y_ldata = df[['quality']]\n",
    "\n",
    "X_train1, X_test1, y_train1, y_test1 = train_test_split(X_ldata, y_ldata, \n",
    "                                                    train_size = 0.7,\n",
    "                                                    test_size = 0.3,\n",
    "                                                    random_state = 5)\n",
    "# X_train1 =  X_train1.values.reshape(-1,1)     \n",
    "# X_test1 = X_test1.values.reshape(-1,1)\n",
    "\n",
    "print(X_train1.shape)\n",
    "print(X_test1.shape)"
   ]
  },
  {
   "cell_type": "code",
   "execution_count": 61,
   "id": "32b12e34",
   "metadata": {},
   "outputs": [
    {
     "name": "stdout",
     "output_type": "stream",
     "text": [
      "[5.7419996]\n",
      "[[ 1.19739593  0.00739654 -2.87137175 -0.00452427]]\n"
     ]
    }
   ],
   "source": [
    "lm = LinearRegression() \n",
    "lm.fit(X_train1, y_train1)\n",
    "print(lm.intercept_) \n",
    "print(lm.coef_)  "
   ]
  },
  {
   "cell_type": "code",
   "execution_count": 62,
   "id": "6a9bbab7",
   "metadata": {},
   "outputs": [],
   "source": [
    "y_train_pred1 = lm.predict(X_train1)    \n",
    "y_test_pred1 = lm.predict(X_test1)      "
   ]
  },
  {
   "cell_type": "code",
   "execution_count": 63,
   "id": "a4e7878f",
   "metadata": {},
   "outputs": [
    {
     "name": "stdout",
     "output_type": "stream",
     "text": [
      "0.13087142043513134\n",
      "0.08628537699792871\n"
     ]
    }
   ],
   "source": [
    "print(r2_score(y_train1, y_train_pred1))\n",
    "print(r2_score(y_test1, y_test_pred1))"
   ]
  },
  {
   "cell_type": "markdown",
   "id": "4b1bb344",
   "metadata": {},
   "source": [
    "- The R2 score for the test data (0.086) is slightly lower than the train data (0.131). \n",
    "- This suggests that the model's performance is relatively better on the training data compared to the test data. \n",
    "- It is important to note that the R2 scores alone may not provide a complete understanding of the model's performance, \n",
    "and it is recommended to consider other evaluation metrics and perform further analysis of the model."
   ]
  },
  {
   "cell_type": "markdown",
   "id": "9b07dd95",
   "metadata": {},
   "source": [
    "#### Cross Validation"
   ]
  },
  {
   "cell_type": "code",
   "execution_count": 64,
   "id": "0610b41a",
   "metadata": {},
   "outputs": [
    {
     "data": {
      "text/plain": [
       "array([-0.26582155,  0.16247848,  0.04359361,  0.05157793,  0.13222211,\n",
       "       -0.13567608, -0.33182964,  0.05594236,  0.11115149, -0.03094814,\n",
       "       -0.18316458,  0.06667406,  0.02252725, -0.00073785,  0.11280778])"
      ]
     },
     "execution_count": 64,
     "metadata": {},
     "output_type": "execute_result"
    }
   ],
   "source": [
    "cv_scores = cross_val_score(lm, X_ldata, y_ldata, cv=15, scoring='r2')\n",
    "cv_scores"
   ]
  },
  {
   "cell_type": "markdown",
   "id": "7ccca028",
   "metadata": {},
   "source": [
    "- A negative R2 score suggests that the model's predictions are performing worse than simply using \n",
    "the mean value of the target variable as the prediction. \n",
    "- It means that the linear regression model is not able to capture the underlying patterns and relationships in the data, leading to poor predictions."
   ]
  },
  {
   "cell_type": "code",
   "execution_count": 65,
   "id": "77773513",
   "metadata": {},
   "outputs": [
    {
     "name": "stdout",
     "output_type": "stream",
     "text": [
      "R2 Score: 0.08628537699792871\n",
      "Mean Absolute Error: 0.6289759322689442\n",
      "Mean Squared Error: 0.6096784616632962\n"
     ]
    }
   ],
   "source": [
    "r2 = r2_score(y_test1, y_test_pred1)\n",
    "mae = mean_absolute_error(y_test1, y_test_pred1)\n",
    "mse = mean_squared_error(y_test1, y_test_pred1)\n",
    "\n",
    "# Evaluation metrics\n",
    "print(\"R2 Score:\", r2)\n",
    "print(\"Mean Absolute Error:\", mae)\n",
    "print(\"Mean Squared Error:\", mse)"
   ]
  },
  {
   "cell_type": "markdown",
   "id": "f434ad05",
   "metadata": {},
   "source": [
    "### Conclusion\n",
    "- R2 Score: The R2 score is 0.08628537699792871, which indicates that the model explains only a small proportion of the variance in the dependent variable. \n",
    "    It suggests that the model's performance is relatively poor and that there is a significant amount of unexplained variability in the data.\n",
    "\n",
    "- Mean Absolute Error (MAE): The MAE is 0.6289759322689442, which represents the average absolute difference between the predicted values and the actual values. A lower MAE indicates better performance, so the relatively high MAE suggests that the model's predictions have a relatively large average absolute error.\n",
    "\n",
    "- Mean Squared Error (MSE): The MSE is 0.6096784616632962, which measures the average squared difference between the predicted values and the actual values. Similarly, a lower MSE indicates better performance. The MSE value suggests that the model's predictions have a relatively large average squared error.\n",
    "\n",
    "In summary, based on these evaluation metrics, the Linear Regression model appears to have limited predictive power and is not able to accurately capture the relationships between the independent variables and the dependent variable. "
   ]
  },
  {
   "cell_type": "markdown",
   "id": "9222ff9b",
   "metadata": {},
   "source": [
    "### Random Forest"
   ]
  },
  {
   "cell_type": "code",
   "execution_count": 67,
   "id": "ed552485",
   "metadata": {},
   "outputs": [],
   "source": [
    "fit_rfc = RandomForestClassifier()"
   ]
  },
  {
   "cell_type": "code",
   "execution_count": 68,
   "id": "7542e10b",
   "metadata": {},
   "outputs": [],
   "source": [
    "param_dist = {'max_depth': [2, 3, 4, 8],\n",
    "              'max_features': ['auto', 'sqrt', 'log2', None],   \n",
    "                'bootstrap' : [True, False],\n",
    "              'criterion': ['gini', 'entropy']}"
   ]
  },
  {
   "cell_type": "code",
   "execution_count": 69,
   "id": "2e8abf3c",
   "metadata": {},
   "outputs": [],
   "source": [
    "cv_rfc = GridSearchCV(fit_rfc, cv = 15,\n",
    "                     param_grid=param_dist, verbose = 1,\n",
    "                     n_jobs = 2)"
   ]
  },
  {
   "cell_type": "code",
   "execution_count": 70,
   "id": "fd7cc26c",
   "metadata": {},
   "outputs": [
    {
     "name": "stdout",
     "output_type": "stream",
     "text": [
      "Fitting 15 folds for each of 64 candidates, totalling 960 fits\n"
     ]
    },
    {
     "data": {
      "text/plain": [
       "GridSearchCV(cv=15, estimator=RandomForestClassifier(), n_jobs=2,\n",
       "             param_grid={'bootstrap': [True, False],\n",
       "                         'criterion': ['gini', 'entropy'],\n",
       "                         'max_depth': [2, 3, 4, 8],\n",
       "                         'max_features': ['auto', 'sqrt', 'log2', None]},\n",
       "             verbose=1)"
      ]
     },
     "execution_count": 70,
     "metadata": {},
     "output_type": "execute_result"
    }
   ],
   "source": [
    "cv_rfc.fit(X_train, y_train)"
   ]
  },
  {
   "cell_type": "markdown",
   "id": "41936402",
   "metadata": {},
   "source": [
    "#### Best Parameters that fits"
   ]
  },
  {
   "cell_type": "code",
   "execution_count": 71,
   "id": "d67df8b4",
   "metadata": {},
   "outputs": [
    {
     "name": "stdout",
     "output_type": "stream",
     "text": [
      "Best Params: {'bootstrap': False, 'criterion': 'gini', 'max_depth': 8, 'max_features': 'log2'}\n"
     ]
    }
   ],
   "source": [
    "print(\"Best Params:\", cv_rfc.best_params_)"
   ]
  },
  {
   "cell_type": "code",
   "execution_count": 72,
   "id": "cca63e6e",
   "metadata": {},
   "outputs": [
    {
     "name": "stdout",
     "output_type": "stream",
     "text": [
      "Best Estimator: RandomForestClassifier(bootstrap=False, max_depth=8, max_features='log2')\n"
     ]
    }
   ],
   "source": [
    "print(\"Best Estimator:\", cv_rfc.best_estimator_)"
   ]
  },
  {
   "cell_type": "code",
   "execution_count": 73,
   "id": "dc642fc9",
   "metadata": {},
   "outputs": [
    {
     "name": "stdout",
     "output_type": "stream",
     "text": [
      "Best Index: 46\n"
     ]
    }
   ],
   "source": [
    "print(\"Best Index:\", cv_rfc.best_index_)"
   ]
  },
  {
   "cell_type": "code",
   "execution_count": 74,
   "id": "eb86588a",
   "metadata": {},
   "outputs": [
    {
     "name": "stdout",
     "output_type": "stream",
     "text": [
      "Best Score: 0.6708527131782945\n"
     ]
    }
   ],
   "source": [
    "print(\"Best Score:\", cv_rfc.best_score_)"
   ]
  },
  {
   "cell_type": "code",
   "execution_count": 75,
   "id": "9754d9cf",
   "metadata": {},
   "outputs": [],
   "source": [
    "fit_rfc.fit(X_train, y_train)\n",
    "y_pred = fit_rfc.predict(X_test)"
   ]
  },
  {
   "cell_type": "code",
   "execution_count": 76,
   "id": "39d87fb2",
   "metadata": {},
   "outputs": [
    {
     "data": {
      "text/plain": [
       "<sklearn.metrics._plot.confusion_matrix.ConfusionMatrixDisplay at 0x7fb0f033ed30>"
      ]
     },
     "execution_count": 76,
     "metadata": {},
     "output_type": "execute_result"
    },
    {
     "data": {
      "image/png": "[encoded data removed]",
      "text/plain": [
       "<Figure size 432x288 with 2 Axes>"
      ]
     },
     "metadata": {},
     "output_type": "display_data"
    }
   ],
   "source": [
    "plot_confusion_matrix(fit_rfc, X_test, y_test)"
   ]
  },
  {
   "cell_type": "code",
   "execution_count": 77,
   "id": "96e8ead3",
   "metadata": {},
   "outputs": [
    {
     "data": {
      "text/plain": [
       "0.45625"
      ]
     },
     "execution_count": 77,
     "metadata": {},
     "output_type": "execute_result"
    }
   ],
   "source": [
    "accuracy_rf = accuracy_score(y_test,y_pred)\n",
    "accuracy_rf"
   ]
  },
  {
   "cell_type": "code",
   "execution_count": 78,
   "id": "b25d7686",
   "metadata": {},
   "outputs": [
    {
     "name": "stdout",
     "output_type": "stream",
     "text": [
      "[[0 0 0 1 0 0]\n",
      " [0 0 0 1 0 0]\n",
      " [0 0 0 1 0 0]\n",
      " ...\n",
      " [0 0 1 0 0 0]\n",
      " [0 0 0 1 0 0]\n",
      " [0 0 0 1 0 0]]\n",
      "[[0 0 0 1 0 0]\n",
      " [0 0 0 1 0 0]\n",
      " [0 0 0 1 0 0]\n",
      " ...\n",
      " [0 0 1 0 0 0]\n",
      " [0 0 0 1 0 0]\n",
      " [0 0 0 1 0 0]]\n",
      "6\n"
     ]
    },
    {
     "data": {
      "image/png": "[encoded data removed]",
      "text/plain": [
       "<Figure size 432x288 with 1 Axes>"
      ]
     },
     "metadata": {},
     "output_type": "display_data"
    }
   ],
   "source": [
    "# For the multiclass case, the roc_curve function expects the true labels y_test to be binarized \n",
    "# using one-hot encoding or label binarization. \n",
    "# The predicted probabilities y_pred_proba should be an array of shape (n_samples, n_classes).\n",
    "\n",
    "# Binarize the true labels\n",
    "y_test_bin = label_binarize(y_test, classes=np.unique(y_test))\n",
    "\n",
    "print(y_test_bin)\n",
    "\n",
    "# Calculate the predicted probabilities for each class\n",
    "y_pred_proba = model.predict_proba(X_test)\n",
    "\n",
    "print(y_test_bin)\n",
    "\n",
    "# Calculate the ROC curve for each class\n",
    "fpr = dict()\n",
    "tpr = dict()\n",
    "roc_auc = dict()\n",
    "n_classes = y_test_bin.shape[1]\n",
    "\n",
    "print(n_classes)\n",
    "\n",
    "for i in range(n_classes):\n",
    "    fpr[i], tpr[i], _ = roc_curve(y_test_bin[:, i], y_pred_proba[:, i])\n",
    "    roc_auc[i] = auc(fpr[i], tpr[i])\n",
    "\n",
    "# Plot the ROC curves for each class\n",
    "plt.figure()\n",
    "\n",
    "for i in range(n_classes):\n",
    "    plt.plot(fpr[i], tpr[i], label=f'Class {i} (AUC = {roc_auc[i]:.2f})')\n",
    "\n",
    "plt.plot([0, 1], [0, 1], 'k--')\n",
    "plt.xlabel('False Positive Rate')\n",
    "plt.ylabel('True Positive Rate')\n",
    "plt.title('ROC Curve for Multiclass Classifier')\n",
    "plt.legend()\n",
    "plt.show()\n"
   ]
  },
  {
   "cell_type": "code",
   "execution_count": 79,
   "id": "f6bb8f1c",
   "metadata": {},
   "outputs": [
    {
     "name": "stdout",
     "output_type": "stream",
     "text": [
      "              precision    recall  f1-score   support\n",
      "\n",
      "           3       0.00      0.00      0.00         2\n",
      "           4       0.00      0.00      0.00        11\n",
      "           5       0.46      1.00      0.63       146\n",
      "           6       0.00      0.00      0.00       125\n",
      "           7       0.00      0.00      0.00        32\n",
      "           8       0.00      0.00      0.00         4\n",
      "\n",
      "    accuracy                           0.46       320\n",
      "   macro avg       0.08      0.17      0.10       320\n",
      "weighted avg       0.21      0.46      0.29       320\n",
      "\n"
     ]
    }
   ],
   "source": [
    "print(classification_report(y_test,y_pred))"
   ]
  },
  {
   "cell_type": "code",
   "execution_count": 80,
   "id": "627c4975",
   "metadata": {},
   "outputs": [
    {
     "data": {
      "text/plain": [
       "array([0.765625 , 0.6328125, 0.7109375, 0.6640625, 0.7109375, 0.6953125,\n",
       "       0.6796875, 0.671875 , 0.6484375, 0.7007874])"
      ]
     },
     "execution_count": 80,
     "metadata": {},
     "output_type": "execute_result"
    }
   ],
   "source": [
    "scores = cross_val_score(fit_rfc, X_train, y_train, cv=10)\n",
    "scores"
   ]
  },
  {
   "cell_type": "code",
   "execution_count": 81,
   "id": "2fd3808b",
   "metadata": {},
   "outputs": [
    {
     "data": {
      "text/plain": [
       "0.6880474901574802"
      ]
     },
     "execution_count": 81,
     "metadata": {},
     "output_type": "execute_result"
    }
   ],
   "source": [
    "scores.mean()"
   ]
  },
  {
   "cell_type": "markdown",
   "id": "329d752d",
   "metadata": {},
   "source": [
    "### Conclusion\n",
    "- A cross-validation score of 0.6849 suggests that, on average, the model is able to predict the target variable correctly around 68.49% of the time. "
   ]
  },
  {
   "cell_type": "markdown",
   "id": "7eb9ec17",
   "metadata": {},
   "source": [
    "### SVM"
   ]
  },
  {
   "cell_type": "code",
   "execution_count": 82,
   "id": "2a59df42",
   "metadata": {},
   "outputs": [
    {
     "name": "stdout",
     "output_type": "stream",
     "text": [
      "Accuracy Score:\n",
      "0.45625\n"
     ]
    }
   ],
   "source": [
    "svc = SVC(random_state = 15)  \n",
    "\n",
    "svc.fit(X_train,y_train)\n",
    "\n",
    "y_pred = svc.predict(X_test)\n",
    "\n",
    "print('Accuracy Score:')\n",
    "print(metrics.accuracy_score(y_test,y_pred))"
   ]
  },
  {
   "cell_type": "code",
   "execution_count": null,
   "id": "8417c068",
   "metadata": {},
   "outputs": [],
   "source": [
    "# fine_tuned_params = {'C': [0.1, 1, 10, 100, 1000],        \n",
    "#               'gamma': [1, 0.1, 0.01, 0.001, 0.0001],   \n",
    "#               'kernel': ['linear','rbf','poly']}"
   ]
  },
  {
   "cell_type": "code",
   "execution_count": null,
   "id": "032c895b",
   "metadata": {},
   "outputs": [],
   "source": [
    "# grid_svm = GridSearchCV(svc,fine_tuned_params,cv = 3, scoring='accuracy', \n",
    "#                          verbose = 1, n_jobs = 1)"
   ]
  },
  {
   "cell_type": "code",
   "execution_count": null,
   "id": "a5fbcccf",
   "metadata": {},
   "outputs": [],
   "source": [
    "# grid_svm.fit(X_train,y_train)"
   ]
  },
  {
   "cell_type": "code",
   "execution_count": null,
   "id": "f01da0ae",
   "metadata": {},
   "outputs": [],
   "source": [
    "# print(\"Best Params \", grid_svm.best_params_)"
   ]
  },
  {
   "cell_type": "code",
   "execution_count": null,
   "id": "2656e893",
   "metadata": {},
   "outputs": [],
   "source": [
    "# svc = SVC(kernel='rbf',C=1,gamma=0.1)\n",
    "# svc.fit(X_train,y_train)\n",
    "# y_pred = svc.predict(X_test)\n",
    "# print('Accuracy Score:')\n",
    "# # print(metrics.accuracy_score(y_test,y_pred))"
   ]
  },
  {
   "cell_type": "code",
   "execution_count": 83,
   "id": "81434c6a",
   "metadata": {},
   "outputs": [
    {
     "name": "stdout",
     "output_type": "stream",
     "text": [
      "              precision    recall  f1-score   support\n",
      "\n",
      "           3       0.00      0.00      0.00         2\n",
      "           4       0.00      0.00      0.00        11\n",
      "           5       0.46      1.00      0.63       146\n",
      "           6       0.00      0.00      0.00       125\n",
      "           7       0.00      0.00      0.00        32\n",
      "           8       0.00      0.00      0.00         4\n",
      "\n",
      "    accuracy                           0.46       320\n",
      "   macro avg       0.08      0.17      0.10       320\n",
      "weighted avg       0.21      0.46      0.29       320\n",
      "\n"
     ]
    }
   ],
   "source": [
    "print(classification_report(y_test,y_pred))\n",
    "\n",
    "# auc = roc_auc_score(y_test, y_pred)\n",
    "# auc"
   ]
  },
  {
   "cell_type": "markdown",
   "id": "bc5fcc1d",
   "metadata": {},
   "source": [
    "### Conclusion\n",
    "- SVM (Support Vector Machine) classifier yields an accuracy of 0.46, it means that the model's performance is relatively poor. An accuracy of 0.46 indicates that the model correctly predicted the target variable only 46% of the time, which is significantly below what would be expected by random chance."
   ]
  }
 ],
 "metadata": {
  "kernelspec": {
   "display_name": "Python 3 (ipykernel)",
   "language": "python",
   "name": "python3"
  },
  "language_info": {
   "codemirror_mode": {
    "name": "ipython",
    "version": 3
   },
   "file_extension": ".py",
   "mimetype": "text/x-python",
   "name": "python",
   "nbconvert_exporter": "python",
   "pygments_lexer": "ipython3",
   "version": "3.9.12"
  }
 },
 "nbformat": 4,
 "nbformat_minor": 5
}
